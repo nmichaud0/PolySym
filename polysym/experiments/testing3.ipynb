{
 "cells": [
  {
   "metadata": {
    "ExecuteTime": {
     "end_time": "2025-04-23T11:48:36.208082Z",
     "start_time": "2025-04-23T11:48:36.136860Z"
    }
   },
   "cell_type": "code",
   "source": [
    "%load_ext autoreload\n",
    "%autoreload 2\n",
    "\n",
    "import torch\n",
    "# from PolySym import Regressor, Operators\n",
    "from polysym.torch_operators import Operators\n",
    "from polysym.regressor import Configurator\n",
    "from polysym.model import PolySymModel\n",
    "from polysym.evaluation import r2\n",
    "\n",
    "n_obs = 1000\n",
    "\n",
    "X3d = torch.zeros((n_obs, 2, 100))\n",
    "X2d = torch.zeros((n_obs, 1))\n",
    "y1d = torch.zeros(n_obs)\n",
    "y2d = torch.zeros(n_obs, 100)\n",
    "\n",
    "for obs in range(n_obs):\n",
    "\n",
    "    start, end = torch.rand(2) * 100\n",
    "\n",
    "    x1 = torch.linspace(start, end, 100)\n",
    "    x2 = torch.cos(torch.linspace(start, end, 100))\n",
    "    b = torch.randint(low=-10, high=10, size=(1, 1))\n",
    "\n",
    "    y = (b + x1 + (x1 * x2)) * 14.31\n",
    "    # expr=binary_add(binary_add(v0, x0), binary_mul(v1, v0))\n",
    "\n",
    "    X3d[obs, 0] = x1\n",
    "    X3d[obs, 1] = x2\n",
    "    X2d[obs] = b\n",
    "    y1d[obs] = torch.mean(y).item()\n",
    "    y2d[obs] = y\n",
    "\n",
    "operators = Operators(['add', 'sub', 'mul', 'div', 'neg'])\n",
    "\n",
    "model = PolySymModel(X3d=X3d,\n",
    "                        X2d=X2d,\n",
    "                        y=y2d,\n",
    "                        operators=operators,\n",
    "                        min_complexity=3,\n",
    "                        max_complexity=5,\n",
    "                        pop_size=300,\n",
    "                        stopping_criterion=.9,\n",
    "                        max_iter=2000,\n",
    "                        fitness_fn = r2,\n",
    "                        fitness_obj = 1,\n",
    "                        seed=42,\n",
    "                        verbose=1,\n",
    "                        workers=-1)\n"
   ],
   "id": "ec234ea859f2c0e0",
   "outputs": [
    {
     "name": "stdout",
     "output_type": "stream",
     "text": [
      "The autoreload extension is already loaded. To reload it, use:\n",
      "  %reload_ext autoreload\n"
     ]
    }
   ],
   "execution_count": 66
  },
  {
   "cell_type": "code",
   "id": "initial_id",
   "metadata": {
    "collapsed": true,
    "ExecuteTime": {
     "end_time": "2025-04-23T12:06:37.112568Z",
     "start_time": "2025-04-23T12:06:37.080287Z"
    }
   },
   "source": [
    "from polysym.funsearch import FunSearch\n",
    "\n",
    "\n",
    "fs = FunSearch(pset=model.pset,\n",
    "               ollama_model='deepseek-r1:1.5b')\n"
   ],
   "outputs": [],
   "execution_count": 105
  },
  {
   "metadata": {
    "ExecuteTime": {
     "end_time": "2025-04-23T12:00:23.267689Z",
     "start_time": "2025-04-23T12:00:22.741334Z"
    }
   },
   "cell_type": "code",
   "source": [
    "from ollama import Client\n",
    "\n",
    "fs._call_ollama(\"What's the capital of the moon?\", temperature=.1)"
   ],
   "id": "4c64a43ea1779e61",
   "outputs": [
    {
     "data": {
      "text/plain": [
       "'\\n\\nI am sorry, I cannot answer that question.'"
      ]
     },
     "execution_count": 97,
     "metadata": {},
     "output_type": "execute_result"
    }
   ],
   "execution_count": 97
  },
  {
   "metadata": {
    "ExecuteTime": {
     "end_time": "2025-04-23T11:57:39.456932Z",
     "start_time": "2025-04-23T11:57:39.426396Z"
    }
   },
   "cell_type": "code",
   "source": [
    "import numpy as np\n",
    "\n",
    "pop = model.toolbox.population(n=20)\n",
    "fitnesses = np.random.random(20).tolist()"
   ],
   "id": "68f200f3887b30ad",
   "outputs": [],
   "execution_count": 92
  },
  {
   "metadata": {
    "ExecuteTime": {
     "end_time": "2025-04-23T11:57:39.959215Z",
     "start_time": "2025-04-23T11:57:39.942351Z"
    }
   },
   "cell_type": "code",
   "source": [
    "prompt = fs._build_prompt(pop, fitnesses, 'minimization', 30)\n",
    "\n",
    "print(prompt)"
   ],
   "id": "f19a2280ede016b",
   "outputs": [
    {
     "name": "stdout",
     "output_type": "stream",
     "text": [
      "You are a symbolic‑regression assistant.  I will give you a list of existing expressions (in DEAP’s prefix notation) together with their fitnesses.  Your job is to propose a specified number of new candidate expressions that\n",
      "\n",
      "• use only these tokens:\n",
      "    – Variables:   x0, x1, …      (2D inputs)\n",
      "                   v0, v1, …      (3D inputs)\n",
      "    – Unary ops:  unary_add, unary_sub, unary_mul, unary_div, unary_neg,\n",
      "                   unary_sin, unary_cos, unary_tan, unary_exp, unary_log\n",
      "    – Binary ops: binary_add, binary_sub, binary_mul, binary_div, binary_pow\n",
      "    – Numeric constants: any real in decimal form (e.g. 3.14, –0.5)\n",
      "\n",
      "• are syntactically valid DEAP prefix expressions (PrimitiveTree.from_string must accept them)\n",
      "• contain only the allowed tokens and whitespace—no commas, parentheses, bullets or commentary\n",
      "• appear one expression per line, nothing else\n",
      "• complexities of expression must vary and be as diverse as in the following context\n",
      "• YOU MAY ONLY OUTPUT NEW EXPRESSIONS THAT HAVE THE POTENTIAL TO FIT BETTER THE DATA THAN WHAT IS GIVEN TO YOU\n",
      "\n",
      "When I append “Current population and fitnesses: …” after this prompt, you’ll see examples to seed from.  Always output exactly N new expressions, one per line.\n",
      "\n",
      "Current population and fitnesses, the objective is minimization:\n",
      "- Expr: binary_sub(binary_add(binary_mul(v0, v1), binary_div(v1, 10.69)), binary_sub(binary_mul(v1, v1), binary_mul(v1, v1))), Depth: 3, Fitness: 0.6119\n",
      "- Expr: binary_add(unary_neg(binary_add(binary_sub(x0, v0), binary_add(v0, -44.70))), binary_div(binary_div(binary_div(v1, x0), binary_add(v1, v0)), binary_sub(binary_add(v1, x0), binary_div(v0, v1)))), Depth: 4, Fitness: 0.1395\n",
      "- Expr: unary_neg(binary_div(binary_sub(v0, -79.48), unary_neg(v1))), Depth: 3, Fitness: 0.2921\n",
      "- Expr: binary_mul(binary_mul(binary_sub(binary_add(x0, v1), binary_mul(x0, x0)), binary_mul(binary_mul(x0, x0), binary_add(v0, v1))), unary_neg(binary_add(unary_neg(21.26), binary_div(v0, -9.90)))), Depth: 4, Fitness: 0.3664\n",
      "- Expr: binary_sub(binary_div(binary_mul(binary_sub(x0, x0), binary_add(v0, v1)), unary_neg(binary_add(v0, v0))), binary_div(unary_neg(binary_add(x0, -9.90)), binary_div(binary_mul(v1, x0), binary_add(v1, v1)))), Depth: 4, Fitness: 0.4561\n",
      "- Expr: binary_mul(unary_neg(binary_add(binary_sub(binary_div(v0, -77.04), binary_add(v0, v1)), binary_add(unary_neg(x0), binary_add(v1, v1)))), binary_mul(unary_neg(binary_mul(binary_sub(88.54, -12.45), binary_div(x0, 46.91))), binary_div(binary_sub(unary_neg(x0), binary_add(x0, v1)), binary_div(unary_neg(v0), binary_mul(83.21, v0))))), Depth: 5, Fitness: 0.7852\n",
      "- Expr: binary_mul(binary_mul(unary_neg(binary_mul(binary_sub(-33.34, x0), binary_add(v1, 38.73))), binary_sub(binary_mul(binary_div(x0, -82.39), binary_sub(v1, x0)), binary_mul(binary_div(x0, -17.35), binary_add(v1, 25.08)))), unary_neg(binary_add(binary_sub(binary_div(v0, v1), binary_mul(-75.71, v0)), binary_add(binary_sub(x0, -81.36), unary_neg(89.41))))), Depth: 5, Fitness: 0.1997\n",
      "- Expr: binary_add(binary_mul(binary_sub(binary_div(binary_sub(66.94, -51.25), binary_div(v0, -61.88)), binary_div(binary_div(v0, x0), binary_sub(-32.02, v1))), unary_neg(binary_sub(binary_sub(73.05, 7.72), binary_sub(v1, -8.93)))), binary_sub(binary_add(binary_add(binary_div(-53.29, -91.27), binary_mul(-22.78, v0)), binary_mul(unary_neg(v0), binary_div(v1, x0))), binary_mul(unary_neg(binary_div(-96.93, v0)), binary_mul(binary_add(x0, 56.31), binary_sub(v1, 29.97))))), Depth: 5, Fitness: 0.5142\n",
      "- Expr: binary_div(binary_mul(binary_sub(binary_mul(x0, x0), binary_add(v1, v0)), unary_neg(binary_mul(x0, x0))), binary_mul(binary_add(binary_sub(x0, x0), binary_sub(x0, v1)), binary_sub(binary_sub(-70.89, 13.19), binary_add(v0, v0)))), Depth: 4, Fitness: 0.5924\n",
      "- Expr: binary_div(binary_mul(binary_div(v0, 82.57), binary_add(v0, 27.58)), binary_mul(binary_sub(x0, 80.24), binary_div(v0, x0))), Depth: 3, Fitness: 0.0465\n",
      "- Expr: binary_sub(binary_div(binary_sub(binary_mul(v1, 69.06), binary_add(70.67, x0)), binary_add(binary_mul(v1, v1), binary_sub(x0, -45.10))), binary_div(unary_neg(binary_div(66.57, v1)), binary_add(binary_div(v1, v0), binary_add(v1, v0)))), Depth: 4, Fitness: 0.6075\n",
      "- Expr: unary_neg(unary_neg(binary_sub(binary_mul(unary_neg(v1), binary_add(x0, v1)), binary_sub(binary_mul(v0, v0), binary_add(v1, v1))))), Depth: 5, Fitness: 0.1705\n",
      "- Expr: binary_sub(binary_mul(binary_sub(v1, x0), binary_mul(x0, v0)), binary_add(binary_mul(v1, x0), binary_mul(x0, v1))), Depth: 3, Fitness: 0.0651\n",
      "- Expr: unary_neg(binary_mul(binary_sub(binary_sub(binary_div(64.48, v1), unary_neg(v0)), binary_mul(unary_neg(v1), binary_div(v0, x0))), binary_mul(binary_sub(binary_mul(x0, v0), unary_neg(x0)), binary_sub(binary_mul(x0, x0), binary_add(v0, -9.27))))), Depth: 5, Fitness: 0.9489\n",
      "- Expr: binary_div(binary_mul(binary_div(binary_add(binary_mul(x0, 23.13), binary_sub(x0, v1)), binary_add(binary_mul(90.11, v1), unary_neg(v1))), binary_div(binary_sub(unary_neg(-44.82), unary_neg(-81.67)), binary_add(binary_div(x0, x0), binary_sub(v0, v0)))), binary_div(binary_add(unary_neg(binary_div(v0, v0)), binary_add(binary_sub(v0, x0), binary_sub(v0, v0))), binary_div(binary_sub(binary_add(x0, x0), binary_add(x0, v1)), binary_add(binary_div(v1, x0), binary_add(v1, x0))))), Depth: 5, Fitness: 0.9656\n",
      "- Expr: binary_mul(binary_div(unary_neg(x0), binary_mul(55.60, x0)), binary_mul(binary_div(v0, x0), binary_div(v1, 28.67))), Depth: 3, Fitness: 0.8084\n",
      "- Expr: unary_neg(binary_mul(binary_mul(37.22, 42.48), binary_mul(x0, x0))), Depth: 3, Fitness: 0.3046\n",
      "- Expr: binary_div(binary_add(unary_neg(binary_add(v1, v1)), binary_mul(binary_div(v1, 1.11), binary_mul(x0, x0))), binary_div(binary_add(binary_mul(77.62, -32.21), binary_mul(-16.80, x0)), binary_sub(binary_mul(v1, v1), binary_sub(v0, -86.57)))), Depth: 4, Fitness: 0.0977\n",
      "- Expr: unary_neg(binary_mul(unary_neg(v1), binary_add(x0, v1))), Depth: 3, Fitness: 0.6842\n",
      "- Expr: unary_neg(binary_mul(binary_sub(binary_mul(unary_neg(v1), binary_div(v1, v1)), unary_neg(binary_div(v0, v0))), binary_mul(binary_add(unary_neg(v1), binary_div(v1, x0)), binary_sub(binary_div(v0, 69.03), binary_div(x0, v1))))), Depth: 5, Fitness: 0.4402\n",
      "\n",
      "Generate 30 new valid expressions (prefix notation), one per line:\n",
      "\n",
      "\n",
      "You should never output something else than a simple line providing operators, variables with parentheses and commas.\n",
      "\n",
      "Allowed-only operators and terminals:\n",
      "\n",
      "Operators:\n",
      "unary_neg\n",
      "binary_add\n",
      "binary_sub\n",
      "binary_mul\n",
      "binary_div\n",
      "\n",
      "Variables:\n",
      "x0\n",
      "v0\n",
      "v1\n",
      "\n",
      "Never output an operator or terminal not in the previous list.\n",
      "\n",
      "Here's an example of a valid response:\n",
      "\n",
      "LLM_2025.1 – response:\n",
      "\n",
      "binary_mul(binary_add(x0, v0), unary_cos(x0))\n",
      "binary_add(unary_neg(v0), binary_div(54.2, x0))\n"
     ]
    }
   ],
   "execution_count": 93
  },
  {
   "metadata": {
    "ExecuteTime": {
     "end_time": "2025-04-23T12:07:17.308964Z",
     "start_time": "2025-04-23T12:06:46.917225Z"
    }
   },
   "cell_type": "code",
   "source": "npop, response = fs.propose(pop, fitnesses, 'minimization', 10, temperature=.1)",
   "id": "abda76d1001a6919",
   "outputs": [
    {
     "name": "stdout",
     "output_type": "stream",
     "text": [
      "Got response\n",
      "Failed to build tree with line Here are 10 valid expressions in prefix notation using the allowed operators and terminals:\n"
     ]
    }
   ],
   "execution_count": 106
  },
  {
   "metadata": {
    "ExecuteTime": {
     "end_time": "2025-04-23T12:09:11.551666Z",
     "start_time": "2025-04-23T12:09:11.525480Z"
    }
   },
   "cell_type": "code",
   "source": [
    "print(len(npop))\n",
    "\n",
    "print(response)"
   ],
   "id": "e56431fd04fcb55a",
   "outputs": [
    {
     "name": "stdout",
     "output_type": "stream",
     "text": [
      "10\n",
      "\n",
      "\n",
      "Here are 10 valid expressions in prefix notation using the allowed operators and terminals:\n",
      "\n",
      "1. unary_neg(x0)\n",
      "2. binary_add(x0, v0)\n",
      "3. unary_neg(binary_sub(v1, v0))\n",
      "4. binary_mul(unary_neg(x0), v1)\n",
      "5. binary_div(binary_mul(x0, v0), v1)\n",
      "6. unary_neg(binary_div(x0, v1))\n",
      "7. binary_add(unary_neg(x0), unary_neg(v1))\n",
      "8. binary_mul(unary_neg(v0), x0)\n",
      "9. binary_div(binary_sub(v1, v0), x0)\n",
      "10. unary_neg(binary_div(x0, v1))\n"
     ]
    }
   ],
   "execution_count": 107
  },
  {
   "metadata": {
    "ExecuteTime": {
     "end_time": "2025-04-23T12:09:21.023126Z",
     "start_time": "2025-04-23T12:09:21.005415Z"
    }
   },
   "cell_type": "code",
   "source": [
    "for i in npop:\n",
    "    print(str(i))"
   ],
   "id": "5550cf8b24134f2a",
   "outputs": [
    {
     "name": "stdout",
     "output_type": "stream",
     "text": [
      "unary_neg(x0)\n",
      "binary_add(x0, v0)\n",
      "unary_neg(binary_sub(v1, v0))\n",
      "binary_mul(unary_neg(x0), v1)\n",
      "binary_div(binary_mul(x0, v0), v1)\n",
      "unary_neg(binary_div(x0, v1))\n",
      "binary_add(unary_neg(x0), unary_neg(v1))\n",
      "binary_mul(unary_neg(v0), x0)\n",
      "binary_div(binary_sub(v1, v0), x0)\n",
      "unary_neg(binary_div(x0, v1))\n"
     ]
    }
   ],
   "execution_count": 108
  },
  {
   "metadata": {
    "ExecuteTime": {
     "end_time": "2025-04-23T11:30:14.221488Z",
     "start_time": "2025-04-23T11:30:14.154142Z"
    }
   },
   "cell_type": "code",
   "source": [
    "for i in pop:\n",
    "    print(str(i))"
   ],
   "id": "50ea4907b50bbcca",
   "outputs": [
    {
     "name": "stdout",
     "output_type": "stream",
     "text": [
      "unary_neg(unary_neg(binary_sub(binary_add(binary_add(v0, x0), binary_div(x0, -93.64346410364328)), unary_neg(binary_add(v0, x0)))))\n",
      "binary_add(binary_div(binary_mul(binary_add(binary_mul(v1, x0), binary_add(-31.949896696401623, v0)), binary_add(binary_sub(x0, x0), binary_mul(x0, v1))), binary_sub(binary_div(binary_sub(x0, 7.245618290940143), binary_mul(x0, v1)), binary_div(binary_sub(v0, x0), unary_neg(v0)))), binary_sub(unary_neg(binary_add(unary_neg(-44.40527937798158), binary_sub(v0, v1))), binary_sub(binary_add(binary_sub(x0, v0), binary_div(v0, v0)), binary_mul(binary_mul(v1, v0), binary_sub(x0, v0)))))\n",
      "binary_sub(binary_mul(binary_sub(x0, v0), binary_div(v1, v0)), binary_mul(binary_mul(-71.42568191158747, v0), binary_add(v1, 79.56457672049538)))\n",
      "binary_sub(binary_add(binary_add(binary_div(-81.81811756524122, x0), unary_neg(v0)), binary_add(binary_mul(x0, -23.676142698692644), binary_mul(v1, x0))), unary_neg(binary_div(binary_sub(v1, x0), binary_sub(-68.36844913106606, x0))))\n",
      "binary_sub(binary_div(binary_add(binary_div(unary_neg(v1), binary_div(v0, v0)), binary_sub(binary_add(x0, v1), binary_mul(x0, x0))), binary_sub(binary_sub(binary_add(x0, v0), binary_div(x0, x0)), binary_mul(unary_neg(v0), binary_add(89.36973594099817, v0)))), binary_sub(binary_div(binary_div(binary_mul(v0, v0), binary_sub(99.02987133217894, v1)), binary_mul(binary_div(-75.79916082634685, v0), unary_neg(v1))), unary_neg(binary_div(binary_div(v0, v0), unary_neg(x0)))))\n",
      "unary_neg(binary_add(unary_neg(unary_neg(binary_sub(x0, v0))), binary_sub(binary_mul(binary_add(v0, -51.400551520855096), binary_mul(-61.91801712762446, x0)), binary_mul(binary_sub(-17.779544790052398, x0), unary_neg(x0)))))\n",
      "binary_sub(unary_neg(binary_add(binary_add(v0, -71.96354058104511), binary_add(v1, -50.0387104235799))), unary_neg(binary_mul(binary_div(x0, x0), binary_div(x0, x0))))\n",
      "binary_add(binary_mul(binary_mul(-57.250540160163666, 80.48857310210974), binary_add(-99.56892432971472, -46.95938836556961)), binary_mul(binary_sub(39.31830072003251, -69.04063494518718), binary_sub(v0, x0)))\n",
      "binary_div(unary_neg(binary_sub(unary_neg(unary_neg(0.5700765839027184)), binary_div(binary_add(x0, x0), binary_add(x0, x0)))), binary_add(binary_mul(unary_neg(binary_div(v0, x0)), binary_div(unary_neg(31.47463289450451), binary_div(v1, v1))), binary_add(binary_sub(binary_add(v1, -73.8243435745087), binary_sub(-36.7645607456292, x0)), unary_neg(binary_mul(x0, x0)))))\n",
      "binary_add(binary_div(binary_sub(binary_add(binary_sub(x0, v0), binary_sub(v1, v0)), binary_mul(binary_div(v1, x0), binary_div(v1, x0))), binary_add(binary_sub(unary_neg(x0), binary_div(v0, v1)), binary_sub(binary_div(v0, v1), binary_add(v1, -49.77574958602118)))), unary_neg(unary_neg(binary_mul(binary_sub(x0, x0), binary_sub(v0, v1)))))\n",
      "binary_mul(binary_div(binary_mul(x0, x0), unary_neg(v0)), binary_div(unary_neg(v1), binary_div(v0, -74.51089614357224)))\n",
      "binary_sub(unary_neg(binary_sub(binary_add(v0, x0), binary_sub(94.76740452745781, v0))), binary_add(binary_add(binary_add(-95.04272762036226, v1), binary_mul(v0, v1)), binary_add(unary_neg(74.43335658121794), binary_mul(v0, v0))))\n",
      "binary_sub(binary_sub(binary_add(binary_add(x0, v0), binary_mul(v1, v1)), unary_neg(binary_sub(v1, 35.90362367205273))), binary_div(binary_sub(unary_neg(x0), binary_sub(v0, v1)), unary_neg(unary_neg(-30.862577664039947))))\n",
      "binary_mul(binary_div(binary_div(unary_neg(79.90094658223992), binary_add(v1, x0)), binary_mul(unary_neg(v0), binary_sub(-86.00523777473796, v1))), binary_div(binary_sub(unary_neg(v1), binary_div(v1, -34.76341902852002)), binary_sub(binary_div(v0, v0), binary_mul(35.46358905454659, v0))))\n",
      "binary_div(binary_sub(binary_mul(binary_div(unary_neg(v1), binary_sub(v0, 57.151765495516)), binary_div(binary_sub(-11.642796632409414, v0), binary_div(58.7470798212004, v0))), unary_neg(binary_sub(binary_div(v1, x0), binary_add(v1, v0)))), binary_add(binary_add(unary_neg(unary_neg(v0)), binary_mul(binary_div(x0, -17.11179780045613), binary_div(v0, -1.124566197912614))), binary_add(binary_add(unary_neg(x0), binary_mul(v0, v0)), binary_div(binary_mul(x0, v0), unary_neg(-73.33217888859423)))))\n",
      "binary_div(binary_div(binary_div(binary_sub(22.53046455235257, 66.11383394428302), binary_div(79.44162064665244, -9.986048550618378)), binary_add(binary_sub(25.34968739635626, v1), binary_mul(x0, v1))), binary_add(binary_sub(binary_sub(v1, x0), binary_add(v0, v0)), binary_mul(binary_add(v0, x0), binary_mul(-33.82372179238328, -16.845153179368808))))\n",
      "binary_mul(binary_mul(binary_div(x0, -4.604053488528621), binary_sub(v1, 70.68959011382091)), binary_mul(binary_div(v0, -56.11567307571277), binary_mul(-94.19503601065695, v1)))\n",
      "binary_mul(binary_add(binary_mul(binary_add(binary_div(x0, 18.37855512558218), unary_neg(x0)), binary_mul(binary_add(-63.65419469731357, v1), binary_mul(v1, v0))), binary_mul(binary_sub(binary_sub(-44.3486768722388, -49.54569364352388), unary_neg(-96.12334258999786)), binary_div(unary_neg(v1), binary_add(x0, x0)))), unary_neg(binary_add(binary_add(unary_neg(v0), binary_add(v0, 33.89176892398214)), binary_div(binary_add(39.892994249230156, v1), binary_add(x0, v0)))))\n",
      "unary_neg(binary_div(unary_neg(binary_sub(-20.669111696674534, v0)), unary_neg(binary_div(v0, x0))))\n",
      "binary_sub(binary_div(unary_neg(binary_div(unary_neg(v1), binary_div(32.30426813747118, x0))), binary_div(binary_sub(unary_neg(64.46618361801163), unary_neg(92.15751344291573)), binary_mul(binary_add(-64.77260778278813, v1), binary_div(-7.025245673098439, v1)))), binary_sub(binary_add(unary_neg(binary_sub(-51.227312161808804, 13.969928935664441)), binary_mul(binary_sub(x0, 70.19056726249181), binary_add(-57.576029964052196, v1))), binary_sub(binary_sub(binary_div(v1, x0), binary_div(v0, x0)), binary_add(binary_mul(11.035242316372162, v0), binary_mul(-10.365090082685839, x0)))))\n"
     ]
    },
    {
     "name": "stderr",
     "output_type": "stream",
     "text": [
      "[autoreload of polysym.funsearch failed: Traceback (most recent call last):\n",
      "  File \"/Users/nizarmichaud/VSCodeProjects/PolySym/venv/lib/python3.13/site-packages/IPython/extensions/autoreload.py\", line 283, in check\n",
      "    superreload(m, reload, self.old_objects)\n",
      "    ~~~~~~~~~~~^^^^^^^^^^^^^^^^^^^^^^^^^^^^^\n",
      "  File \"/Users/nizarmichaud/VSCodeProjects/PolySym/venv/lib/python3.13/site-packages/IPython/extensions/autoreload.py\", line 483, in superreload\n",
      "    module = reload(module)\n",
      "  File \"/opt/homebrew/Cellar/python@3.13/3.13.0_1/Frameworks/Python.framework/Versions/3.13/lib/python3.13/importlib/__init__.py\", line 129, in reload\n",
      "    _bootstrap._exec(spec, module)\n",
      "    ~~~~~~~~~~~~~~~~^^^^^^^^^^^^^^\n",
      "  File \"<frozen importlib._bootstrap>\", line 866, in _exec\n",
      "  File \"<frozen importlib._bootstrap_external>\", line 1018, in exec_module\n",
      "  File \"<frozen importlib._bootstrap_external>\", line 1156, in get_code\n",
      "  File \"<frozen importlib._bootstrap_external>\", line 1086, in source_to_code\n",
      "  File \"<frozen importlib._bootstrap>\", line 488, in _call_with_frames_removed\n",
      "  File \"/Users/nizarmichaud/VSCodeProjects/PolySym/polysym/funsearch.py\", line 9\n",
      "    class FunSearch:\n",
      "    ^^^^^\n",
      "IndentationError: expected an indented block after function definition on line 7\n",
      "]\n"
     ]
    }
   ],
   "execution_count": 27
  },
  {
   "metadata": {
    "ExecuteTime": {
     "end_time": "2025-04-23T08:48:01.448182Z",
     "start_time": "2025-04-23T08:48:01.357653Z"
    }
   },
   "cell_type": "code",
   "source": [
    "import sympy as sp\n",
    "\n",
    "sp.simplify(sp.sympify(str(pop[0])))"
   ],
   "id": "28a5de128bbf42c2",
   "outputs": [
    {
     "data": {
      "text/plain": [
       "unary_neg(unary_neg(binary_sub(binary_add(binary_add(ARG1, v1), unary_neg(v1)), binary_div(unary_neg(v0), binary_mul(ARG0, ARG0)))))"
      ],
      "text/latex": "$\\displaystyle \\operatorname{unary}_{neg}{\\left(\\operatorname{unary}_{neg}{\\left(\\operatorname{binary}_{sub}{\\left(\\operatorname{binary}_{add}{\\left(\\operatorname{binary}_{add}{\\left(ARG_{1},v_{1} \\right)},\\operatorname{unary}_{neg}{\\left(v_{1} \\right)} \\right)},\\operatorname{binary}_{div}{\\left(\\operatorname{unary}_{neg}{\\left(v_{0} \\right)},\\operatorname{binary}_{mul}{\\left(ARG_{0},ARG_{0} \\right)} \\right)} \\right)} \\right)} \\right)}$"
     },
     "execution_count": 18,
     "metadata": {},
     "output_type": "execute_result"
    }
   ],
   "execution_count": 18
  },
  {
   "metadata": {
    "ExecuteTime": {
     "end_time": "2025-04-23T11:30:33.397725Z",
     "start_time": "2025-04-23T11:30:33.371087Z"
    }
   },
   "cell_type": "code",
   "source": "str(pop[-1])",
   "id": "5115db81a05c47ae",
   "outputs": [
    {
     "data": {
      "text/plain": [
       "'binary_sub(binary_div(unary_neg(binary_div(unary_neg(v1), binary_div(32.30426813747118, x0))), binary_div(binary_sub(unary_neg(64.46618361801163), unary_neg(92.15751344291573)), binary_mul(binary_add(-64.77260778278813, v1), binary_div(-7.025245673098439, v1)))), binary_sub(binary_add(unary_neg(binary_sub(-51.227312161808804, 13.969928935664441)), binary_mul(binary_sub(x0, 70.19056726249181), binary_add(-57.576029964052196, v1))), binary_sub(binary_sub(binary_div(v1, x0), binary_div(v0, x0)), binary_add(binary_mul(11.035242316372162, v0), binary_mul(-10.365090082685839, x0)))))'"
      ]
     },
     "execution_count": 29,
     "metadata": {},
     "output_type": "execute_result"
    }
   ],
   "execution_count": 29
  },
  {
   "metadata": {},
   "cell_type": "code",
   "outputs": [],
   "execution_count": null,
   "source": "",
   "id": "16ec2b4cd60dde13"
  }
 ],
 "metadata": {
  "kernelspec": {
   "display_name": "Python 3",
   "language": "python",
   "name": "python3"
  },
  "language_info": {
   "codemirror_mode": {
    "name": "ipython",
    "version": 2
   },
   "file_extension": ".py",
   "mimetype": "text/x-python",
   "name": "python",
   "nbconvert_exporter": "python",
   "pygments_lexer": "ipython2",
   "version": "2.7.6"
  }
 },
 "nbformat": 4,
 "nbformat_minor": 5
}
