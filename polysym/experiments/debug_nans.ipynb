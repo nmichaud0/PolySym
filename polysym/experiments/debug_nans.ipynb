{
 "cells": [
  {
   "cell_type": "code",
   "id": "initial_id",
   "metadata": {
    "collapsed": true,
    "ExecuteTime": {
     "end_time": "2025-05-03T21:39:14.585028Z",
     "start_time": "2025-05-03T21:39:13.178053Z"
    }
   },
   "source": [
    "import torch\n",
    "from polysym.torch_operators_2 import *\n",
    "\n",
    "B_nan = torch.tensor([1., float('nan'), 3.])\n",
    "B = torch.tensor([1., 2, 3.])\n",
    "V_nan = torch.stack([B_nan, B_nan*2])           # shape (2,3)\n",
    "V = torch.stack([B, B*2])\n",
    "\n",
    "tests = [(unary[key][0], V) for unary in (UNARY_REDUCE, UNARY_NONREDUCE) for key in unary.keys()]\n",
    "tests += [(binary[key][0], (V, V)) for binary in (BINARY_REDUCE, BINARY_NONREDUCE) for key in binary.keys()]\n",
    "\n",
    "tests_nan = [(unary[key][0], V_nan) for unary in (UNARY_REDUCE, UNARY_NONREDUCE) for key in unary.keys()]\n",
    "tests_nan += [(binary[key][0], (V_nan, V_nan)) for binary in (BINARY_REDUCE, BINARY_NONREDUCE) for key in binary.keys()]\n",
    "\n",
    "for test, nan_flag in ((tests, 'non-nan'), (tests_nan, 'nan')):\n",
    "    for fn, arg in test:\n",
    "        if isinstance(arg, tuple):\n",
    "            out = fn(arg[0], arg[1])\n",
    "        else:\n",
    "            out = fn(arg)\n",
    "\n",
    "        print(nan_flag, fn.fn.__name__, end=' : ')\n",
    "        print(bool(torch.isnan(out).sum() == torch.isnan(arg if isinstance(arg, Tensor) else arg[0]).sum()))"
   ],
   "outputs": [
    {
     "name": "stdout",
     "output_type": "stream",
     "text": [
      "non-nan op_mean : True\n",
      "non-nan op_median : True\n",
      "non-nan op_sum : True\n",
      "non-nan op_std : True\n",
      "non-nan op_min : True\n",
      "non-nan op_max : True\n",
      "non-nan neg : True\n",
      "non-nan abs : True\n",
      "non-nan sin : True\n",
      "non-nan cos : True\n",
      "non-nan safe_tan : True\n",
      "non-nan safe_sqrt : True\n",
      "non-nan exp : True\n",
      "non-nan safe_log : True\n",
      "non-nan safe_log10 : True\n",
      "non-nan center : True\n",
      "non-nan cov : True\n",
      "non-nan pearson : True\n",
      "non-nan spearman : True\n",
      "non-nan add : True\n",
      "non-nan sub : True\n",
      "non-nan mul : True\n",
      "non-nan safe_div : True\n",
      "nan op_mean : False\n",
      "nan op_median : False\n",
      "nan op_sum : False\n",
      "nan op_std : False\n",
      "nan op_min : True\n",
      "nan op_max : True\n",
      "nan neg : True\n",
      "nan abs : True\n",
      "nan sin : True\n",
      "nan cos : True\n",
      "nan safe_tan : True\n",
      "nan safe_sqrt : True\n",
      "nan exp : True\n",
      "nan safe_log : True\n",
      "nan safe_log10 : True\n",
      "nan center : True\n",
      "nan cov : False\n",
      "nan pearson : False\n",
      "nan spearman : False\n",
      "nan add : True\n",
      "nan sub : True\n",
      "nan mul : True\n",
      "nan safe_div : True\n"
     ]
    }
   ],
   "execution_count": 1
  },
  {
   "metadata": {
    "ExecuteTime": {
     "end_time": "2025-05-03T20:58:23.489921Z",
     "start_time": "2025-05-03T20:58:23.480270Z"
    }
   },
   "cell_type": "code",
   "source": [
    "a = torch.tensor(float('nan'))\n",
    "b = torch.arange(3.)\n",
    "bad = SafeBroadcast(torch.mul)(a, b)\n",
    "assert torch.isnan(bad).tolist() == [True, True, True]   # should be all True"
   ],
   "id": "3a975b706509b4f3",
   "outputs": [],
   "execution_count": 3
  },
  {
   "metadata": {},
   "cell_type": "code",
   "outputs": [],
   "execution_count": null,
   "source": "",
   "id": "ebbc8ab56fd35d4d"
  }
 ],
 "metadata": {
  "kernelspec": {
   "display_name": "Python 3",
   "language": "python",
   "name": "python3"
  },
  "language_info": {
   "codemirror_mode": {
    "name": "ipython",
    "version": 2
   },
   "file_extension": ".py",
   "mimetype": "text/x-python",
   "name": "python",
   "nbconvert_exporter": "python",
   "pygments_lexer": "ipython2",
   "version": "2.7.6"
  }
 },
 "nbformat": 4,
 "nbformat_minor": 5
}
