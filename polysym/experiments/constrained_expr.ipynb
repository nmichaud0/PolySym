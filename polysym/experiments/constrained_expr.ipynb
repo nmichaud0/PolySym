{
 "cells": [
  {
   "cell_type": "code",
   "id": "initial_id",
   "metadata": {
    "collapsed": true,
    "ExecuteTime": {
     "end_time": "2025-05-02T13:34:23.455114Z",
     "start_time": "2025-05-02T13:34:22.157527Z"
    }
   },
   "source": [
    "%load_ext autoreload\n",
    "%autoreload 2\n",
    "from polysym.torch_operators_2 import Operators\n",
    "from polysym.model import PolySymModel\n",
    "from deap import gp, base, creator, tools\n",
    "from polysym.utils import _RandConst\n",
    "import sympy as sp\n",
    "\n",
    "# Algo:\n",
    "# Each node has to choose between: operator/primitive vs. variable/terminal\n",
    "# Each node has a constraint from its upper node:\n",
    "# 0, 1 or 2: if zero then free to choose anything, 1 then must choose scalar 2 must choose vector\n",
    "\n",
    "# one rule may be that we never put a reducer operator when required node rank is 1\n",
    "\n",
    "# for all other operators, we"
   ],
   "outputs": [],
   "execution_count": 1
  },
  {
   "metadata": {
    "ExecuteTime": {
     "end_time": "2025-05-02T14:10:08.613113Z",
     "start_time": "2025-05-02T14:10:08.558080Z"
    }
   },
   "cell_type": "code",
   "source": [
    "\n",
    "# ---------- 1. real types ----------\n",
    "class Scalar:  pass\n",
    "class Vector:  pass\n",
    "S, V = Scalar, Vector          # aliases\n",
    "\n",
    "# ---------- 2. mock arrays ----------\n",
    "class Arr:\n",
    "    def __init__(self, a, b):  self.shape = (a, b)\n",
    "\n",
    "# ---------- 3. model ----------\n",
    "class ModelTest:\n",
    "    def __init__(self):\n",
    "        self.objective = 1                     # want a vector output\n",
    "        self.X2d = Arr(0, 1)                  # 1 scalar input  (x0)\n",
    "        self.X3d = Arr(0, 2)                  # 2 vector inputs (v0,v1)\n",
    "        self.min_constant, self.max_constant = -10, 10\n",
    "        self.operators = Operators(select_all=True)\n",
    "\n",
    "        # sympy symbols ---------------------------------------------------\n",
    "        n2, n3 = self.X2d.shape[1], self.X3d.shape[1]\n",
    "        sy2 = [sp.symbols(f\"x{i}\") for i in range(n2)]\n",
    "        sy3 = [sp.symbols(f\"v{j}\") for j in range(n3)]\n",
    "        self.symbols = sy2 + sy3\n",
    "\n",
    "        # build typed GP tool‑box -----------------------------------------\n",
    "        self.pset = self._build_primitives()\n",
    "        self.toolbox = self._setup_gp()\n",
    "\n",
    "    # ---------- 4. primitive set ----------\n",
    "    def _build_primitives(self):\n",
    "        ret_type = V if self.objective == 2 else S\n",
    "        # we pass an empty argument‑type list so DEAP does not create ARGx terminals\n",
    "        pset = gp.PrimitiveSetTyped(\"MAIN\", [], ret_type)\n",
    "\n",
    "        # terminals: variables --------------------------------------------\n",
    "        for idx, sym in enumerate(self.symbols):\n",
    "            typ = S if idx < self.X2d.shape[1] else V\n",
    "            pset.addTerminal(sym, typ, name=str(sym))\n",
    "\n",
    "        # terminals: ephemeral scalar constants ---------------------------\n",
    "        pset.addEphemeralConstant(\"randc\",\n",
    "                                  _RandConst(self.min_constant, self.max_constant),\n",
    "                                  S)\n",
    "        pset.arguments = []  # ensure no ARGx terminals linger\n",
    "\n",
    "        # primitives: unary ----------------------------------------------\n",
    "        for name, (fn, _, rank) in self.operators.unary_nonreduce.items():\n",
    "            if rank == 0:                          # same-in same-out\n",
    "                pset.addPrimitive(fn, [S], S, name=name)\n",
    "                pset.addPrimitive(fn, [V], V, name=name)\n",
    "            elif rank == 1:                        # scalar‑only\n",
    "                pset.addPrimitive(fn, [S], S, name=name)\n",
    "            elif rank == 2:                        # vector‑only\n",
    "                pset.addPrimitive(fn, [V], V, name=name)\n",
    "        for name, (fn, _, _) in self.operators.unary_reduce.items():\n",
    "            pset.addPrimitive(fn, [V], S, name=name)     # vector → scalar\n",
    "\n",
    "        # primitives: binary ---------------------------------------------\n",
    "        for name, (fn, _, rank) in self.operators.binary_nonreduce.items():\n",
    "            if rank in (0, 3):    # general or (vector,scalar) variants\n",
    "                pset.addPrimitive(fn, [S, S], S, name=name)\n",
    "                pset.addPrimitive(fn, [S, V], V, name=name)\n",
    "                pset.addPrimitive(fn, [V, S], V, name=name)\n",
    "                pset.addPrimitive(fn, [V, V], V, name=name)\n",
    "        for name, (fn, _, _) in self.operators.binary_reduce.items():\n",
    "            pset.addPrimitive(fn, [V, V], S, name=name)  # reducer\n",
    "\n",
    "        return pset\n",
    "\n",
    "    # ---------- 5. toolbox ----------\n",
    "    def _setup_gp(self):\n",
    "        creator.create(\"Fitness\", base.Fitness, weights=(-1.0,))\n",
    "        creator.create(\"Individual\", gp.PrimitiveTree, fitness=creator.Fitness)\n",
    "        tb = base.Toolbox()\n",
    "        tb.register(\"expr_init\", gp.genHalfAndHalf, pset=self.pset, min_=1, max_=5)\n",
    "        tb.register(\"individual\", tools.initIterate, creator.Individual, tb.expr_init)\n",
    "        tb.register(\"population\", tools.initRepeat, list, tb.individual)\n",
    "        return tb\n",
    "\n",
    "model = ModelTest()"
   ],
   "id": "3ae02fba13d72bba",
   "outputs": [
    {
     "name": "stderr",
     "output_type": "stream",
     "text": [
      "/Users/nizarmichaud/VSCodeProjects/PolySym/venv/lib/python3.13/site-packages/deap/creator.py:185: RuntimeWarning: A class named 'Fitness' has already been created and it will be overwritten. Consider deleting previous creation of that class or rename it.\n",
      "  warnings.warn(\"A class named '{0}' has already been created and it \"\n",
      "/Users/nizarmichaud/VSCodeProjects/PolySym/venv/lib/python3.13/site-packages/deap/creator.py:185: RuntimeWarning: A class named 'Individual' has already been created and it will be overwritten. Consider deleting previous creation of that class or rename it.\n",
      "  warnings.warn(\"A class named '{0}' has already been created and it \"\n"
     ]
    }
   ],
   "execution_count": 41
  },
  {
   "metadata": {
    "ExecuteTime": {
     "end_time": "2025-05-02T14:10:16.810060Z",
     "start_time": "2025-05-02T14:10:16.787683Z"
    }
   },
   "cell_type": "code",
   "source": [
    "ind = model.toolbox.population(n=1)[0]\n",
    "str(ind)"
   ],
   "id": "271589706d989103",
   "outputs": [
    {
     "data": {
      "text/plain": [
       "'sub(sub(spearmanr(div(v1, v0), sub(v0, v1)), exp(cos(9.486))), min(div(exp(v1), std(v1))))'"
      ]
     },
     "execution_count": 44,
     "metadata": {},
     "output_type": "execute_result"
    }
   ],
   "execution_count": 44
  },
  {
   "metadata": {
    "ExecuteTime": {
     "end_time": "2025-05-02T14:10:28.509392Z",
     "start_time": "2025-05-02T14:10:28.315231Z"
    }
   },
   "cell_type": "code",
   "source": [
    "from sympy import Expr\n",
    "import sympy as sp\n",
    "from graphviz import Digraph\n",
    "from polysym.utils import _round_floats\n",
    "\n",
    "\n",
    "def draw_deap_tree(ind: gp.PrimitiveTree,\n",
    "                   filename: str = \"expr_tree\",\n",
    "                   fmt: str = \"png\",\n",
    "                   round_const: int = 2) -> None:\n",
    "    \"\"\"\n",
    "    Render a DEAP PrimitiveTree *exactly* as stored (no SymPy simplification).\n",
    "    Float terminals are rounded to `round_const` decimals.\n",
    "    \"\"\"\n",
    "    dot = Digraph(format=fmt)\n",
    "    counter = 0\n",
    "\n",
    "    # stack keeps (node_index, parent_id); start with root at position 0\n",
    "    stack = [(0, None)]\n",
    "\n",
    "    while stack:\n",
    "        idx, parent_id = stack.pop()\n",
    "        node = ind[idx]\n",
    "        node_id = str(counter); counter += 1\n",
    "\n",
    "        # ----- label ----------------------------------------------------\n",
    "        if node.arity == 0:                       # Terminal\n",
    "            if isinstance(node.value, float):\n",
    "                lbl = str(round(node.value, round_const))\n",
    "            else:\n",
    "                lbl = str(node.value)\n",
    "        else:                                     # Primitive\n",
    "            lbl = node.name\n",
    "\n",
    "        dot.node(node_id, lbl)\n",
    "        if parent_id is not None:\n",
    "            dot.edge(parent_id, node_id)\n",
    "\n",
    "        # ----- children -------------------------------------------------\n",
    "        # children start right after the current node and occupy a prefix\n",
    "        # of the subtree slice.  Push them in reverse order so the leftmost\n",
    "        # child is processed first when the stack is popped.\n",
    "        if node.arity:\n",
    "            child_idx = idx + 1\n",
    "            for _ in range(node.arity):\n",
    "                stack.append((child_idx, node_id))\n",
    "                # skip over the entire subtree of this child\n",
    "                child_idx = ind.searchSubtree(child_idx).stop\n",
    "\n",
    "    dot.render(filename, cleanup=True)\n",
    "\n",
    "expr = str(ind)\n",
    "print(str(ind))\n",
    "\n",
    "draw_deap_tree(ind)\n"
   ],
   "id": "1b734fbffd77ece6",
   "outputs": [
    {
     "name": "stdout",
     "output_type": "stream",
     "text": [
      "sub(sub(spearmanr(div(v1, v0), sub(v0, v1)), exp(cos(9.486))), min(div(exp(v1), std(v1))))\n"
     ]
    }
   ],
   "execution_count": 45
  },
  {
   "metadata": {
    "ExecuteTime": {
     "end_time": "2025-05-02T13:35:42.996240Z",
     "start_time": "2025-05-02T13:35:42.955487Z"
    }
   },
   "cell_type": "code",
   "source": "model.pset.terminals[Vector][1].name",
   "id": "71119a16e9e6d399",
   "outputs": [
    {
     "data": {
      "text/plain": [
       "'v1'"
      ]
     },
     "execution_count": 11,
     "metadata": {},
     "output_type": "execute_result"
    }
   ],
   "execution_count": 11
  },
  {
   "metadata": {
    "ExecuteTime": {
     "end_time": "2025-05-02T13:36:02.434651Z",
     "start_time": "2025-05-02T13:36:02.415123Z"
    }
   },
   "cell_type": "code",
   "source": "str(ind)",
   "id": "5789d587a86082b9",
   "outputs": [
    {
     "data": {
      "text/plain": [
       "'log10(tan(div(neg(sub(v1, v1)), add(sin(x0), abs(v1)))))'"
      ]
     },
     "execution_count": 16,
     "metadata": {},
     "output_type": "execute_result"
    }
   ],
   "execution_count": 16
  },
  {
   "metadata": {
    "ExecuteTime": {
     "end_time": "2025-05-02T13:36:05.256451Z",
     "start_time": "2025-05-02T13:36:05.240430Z"
    }
   },
   "cell_type": "code",
   "source": "ind",
   "id": "7ac9e47a4516f208",
   "outputs": [
    {
     "data": {
      "text/plain": [
       "[<deap.gp.Primitive at 0x13447e6b0>,\n",
       " <deap.gp.Primitive at 0x13447e430>,\n",
       " <deap.gp.Primitive at 0x13447ede0>,\n",
       " <deap.gp.Primitive at 0x13447e200>,\n",
       " <deap.gp.Primitive at 0x13447eb60>,\n",
       " <deap.gp.Terminal at 0x1344b4540>,\n",
       " <deap.gp.Terminal at 0x1344b4540>,\n",
       " <deap.gp.Primitive at 0x13447e980>,\n",
       " <deap.gp.Primitive at 0x13447e2f0>,\n",
       " <deap.gp.Terminal at 0x1344b4440>,\n",
       " <deap.gp.Primitive at 0x13447e2a0>,\n",
       " <deap.gp.Terminal at 0x1344b4540>]"
      ]
     },
     "execution_count": 17,
     "metadata": {},
     "output_type": "execute_result"
    }
   ],
   "execution_count": 17
  },
  {
   "metadata": {
    "ExecuteTime": {
     "end_time": "2025-05-02T13:37:18.020845Z",
     "start_time": "2025-05-02T13:37:18.003009Z"
    }
   },
   "cell_type": "code",
   "source": "str(model.toolbox.population(n=1)[0])",
   "id": "9f396db557e0a00b",
   "outputs": [
    {
     "data": {
      "text/plain": [
       "'div(neg(add(sub(v1, -4.463), log(v0))), min(exp(exp(v0))))'"
      ]
     },
     "execution_count": 23,
     "metadata": {},
     "output_type": "execute_result"
    }
   ],
   "execution_count": 23
  },
  {
   "metadata": {},
   "cell_type": "code",
   "outputs": [],
   "execution_count": null,
   "source": "",
   "id": "bc0a8f53b2797645"
  }
 ],
 "metadata": {
  "kernelspec": {
   "display_name": "Python 3",
   "language": "python",
   "name": "python3"
  },
  "language_info": {
   "codemirror_mode": {
    "name": "ipython",
    "version": 2
   },
   "file_extension": ".py",
   "mimetype": "text/x-python",
   "name": "python",
   "nbconvert_exporter": "python",
   "pygments_lexer": "ipython2",
   "version": "2.7.6"
  }
 },
 "nbformat": 4,
 "nbformat_minor": 5
}
