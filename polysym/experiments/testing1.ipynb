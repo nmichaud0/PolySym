{
 "cells": [
  {
   "cell_type": "code",
   "id": "2c9df61e",
   "metadata": {
    "ExecuteTime": {
     "end_time": "2025-05-04T10:00:31.342881Z",
     "start_time": "2025-05-04T10:00:31.274017Z"
    }
   },
   "source": [
    "%load_ext autoreload\n",
    "%autoreload 2\n",
    "\n",
    "import torch\n",
    "# from PolySym import Regressor, Operators\n",
    "from polysym.torch_operators_2 import Operators\n",
    "from polysym.regressor import Configurator\n",
    "from polysym.model import PolySymModel\n",
    "from polysym.evaluation import r2\n",
    "from polysym.utils import compile_tree\n",
    "import random\n",
    "\n",
    "n_obs = 100\n",
    "\n",
    "X3d = torch.zeros((n_obs, 2, 50))\n",
    "sequences = []\n",
    "X2d = torch.zeros((n_obs, 1))\n",
    "y1d = torch.zeros(n_obs)\n",
    "# y2d = torch.zeros(n_obs, 150)\n",
    "y2d = torch.full((n_obs, 50), torch.nan)\n",
    "\n",
    "for obs in range(n_obs):\n",
    "\n",
    "    length = random.randint(25, 50)\n",
    "\n",
    "    start, end = torch.rand(2) * 100\n",
    "\n",
    "    x1 = torch.linspace(start, end, length)\n",
    "    x2 = torch.cos(torch.linspace(start, end, length))\n",
    "\n",
    "    x12 = torch.vstack([x1, x2]).T\n",
    "    sequences.append(x12)\n",
    "\n",
    "    b = torch.randint(low=-10, high=10, size=(1, 1))\n",
    "\n",
    "    y = (b + x1 + (x1 * x2))\n",
    "    # expr=binary_add(binary_add(x0, n0), binary_mul(v1, v0))\n",
    "\n",
    "    expr = 'binary_add(binary_add(x0, v0), binary_mul(v0, v1))'\n",
    "\n",
    "    X3d[obs, 0, :length] = x1\n",
    "    X3d[obs, 1, :length] = x2\n",
    "    X2d[obs] = b\n",
    "    y1d[obs] = torch.nanmean(y).item()\n",
    "    y2d[obs, :length] = y\n",
    "\n",
    "sequences = torch.nn.utils.rnn.pad_sequence(sequences, padding_value=torch.nan)\n",
    "X3d = sequences\n",
    "X3d = X3d.permute(1, 2, 0)\n",
    "print(X3d.shape)\n",
    "\n",
    "operators = Operators(['add', 'sub', 'mul', 'div', 'neg', 'mean'])\n",
    "\n",
    "model = PolySymModel(X3d=X3d,\n",
    "                        X2d=X2d,\n",
    "                        y=y2d,\n",
    "                        labels_2d=['b'],\n",
    "                        labels_3d=['vec0', 'vec1'],\n",
    "                        operators=None,\n",
    "                        min_complexity=1,\n",
    "                        max_complexity=4,\n",
    "                        scale=False,\n",
    "                        add_constants=False,\n",
    "                        pop_size=200,\n",
    "                        max_iter=200,\n",
    "                        fitness_fn = r2,\n",
    "                        fitness_obj = 1,\n",
    "                        seed=43,\n",
    "                        verbose=1,\n",
    "                        optimize_ephemerals=False,\n",
    "                        workers=-1)\n",
    "\n",
    "#print(model.eval_expr(expr))\n",
    "\n",
    "# TODO: fix scaling"
   ],
   "outputs": [
    {
     "name": "stdout",
     "output_type": "stream",
     "text": [
      "The autoreload extension is already loaded. To reload it, use:\n",
      "  %reload_ext autoreload\n",
      "torch.Size([100, 2, 50])\n"
     ]
    }
   ],
   "execution_count": 9
  },
  {
   "metadata": {
    "ExecuteTime": {
     "end_time": "2025-05-04T10:02:11.266197Z",
     "start_time": "2025-05-04T10:00:31.956282Z"
    }
   },
   "cell_type": "code",
   "source": [
    "import os, torch, multiprocessing as mp\n",
    "\n",
    "\"\"\"# ---- put this at the top of your main script ----\n",
    "for var in (\"OMP_NUM_THREADS\",\"MKL_NUM_THREADS\",\"OPENBLAS_NUM_THREADS\"):\n",
    "    os.environ[var] = \"1\"\n",
    "torch.set_num_threads(1)\n",
    "torch.set_num_interop_threads(1)\"\"\"\n",
    "\n",
    "if mp.get_start_method(allow_none=True) != \"fork\":\n",
    "    mp.set_start_method(\"fork\", force=True)   # Linux, CPU‑only\n",
    "# -----------------------------------------------\n",
    "\n",
    "model.fit()"
   ],
   "id": "146f9994",
   "outputs": [
    {
     "name": "stderr",
     "output_type": "stream",
     "text": [
      "2025-05-04 12:00:32,025 - INFO - Running iteration 0/200; best fit=-inf\n",
      "2025-05-04 12:00:41,207 - INFO - Running iteration 10/200; best fit=0.79\n",
      "2025-05-04 12:00:47,588 - INFO - Running iteration 20/200; best fit=0.79\n",
      "2025-05-04 12:00:54,902 - INFO - Running iteration 30/200; best fit=0.79\n",
      "2025-05-04 12:01:03,077 - INFO - Running iteration 40/200; best fit=0.79\n",
      "2025-05-04 12:01:10,974 - INFO - Running iteration 50/200; best fit=0.79\n",
      "2025-05-04 12:01:20,242 - INFO - Running iteration 60/200; best fit=1.00\n",
      "2025-05-04 12:01:28,496 - INFO - Running iteration 70/200; best fit=1.00\n",
      "2025-05-04 12:01:37,666 - INFO - Running iteration 80/200; best fit=1.00\n",
      "2025-05-04 12:01:41,025 - INFO - Running iteration 90/200; best fit=1.00\n",
      "2025-05-04 12:01:44,481 - INFO - No improvements in loss for 50 generations; modifying genetic hyperparameters:\n",
      "2025-05-04 12:01:44,488 - INFO - Increased mating probability by 5%: cxpb=0.55\n",
      "2025-05-04 12:01:44,489 - INFO - Increased mutation probability by 5%: mutpb=0.25\n",
      "2025-05-04 12:01:44,489 - INFO - Running iteration 100/200; best fit=1.00\n",
      "2025-05-04 12:01:46,935 - INFO - Running iteration 110/200; best fit=1.00\n",
      "2025-05-04 12:01:49,455 - INFO - Running iteration 120/200; best fit=1.00\n",
      "2025-05-04 12:01:52,098 - INFO - Running iteration 130/200; best fit=1.00\n",
      "2025-05-04 12:01:54,453 - INFO - Running iteration 140/200; best fit=1.00\n",
      "2025-05-04 12:01:57,472 - INFO - No improvements in loss for 50 generations; modifying genetic hyperparameters:\n",
      "2025-05-04 12:01:57,473 - INFO - Increased mating probability by 5%: cxpb=0.60\n",
      "2025-05-04 12:01:57,473 - INFO - Increased mutation probability by 5%: mutpb=0.30\n",
      "2025-05-04 12:01:57,473 - INFO - Running iteration 150/200; best fit=1.00\n",
      "2025-05-04 12:01:58,562 - INFO - No improvements for 100 generations – population refresh\n",
      "2025-05-04 12:02:00,156 - INFO - Running iteration 160/200; best fit=1.00\n",
      "2025-05-04 12:02:02,906 - INFO - Running iteration 170/200; best fit=1.00\n",
      "2025-05-04 12:02:05,821 - INFO - Running iteration 180/200; best fit=1.00\n",
      "2025-05-04 12:02:08,819 - INFO - Running iteration 190/200; best fit=1.00\n",
      "2025-05-04 12:02:11,259 - INFO - Finished iterating, wrapping up fitting...\n",
      "2025-05-04 12:02:11,260 - INFO - Overall best depth=2 fitness=1.00 ; expr=add(mul(v0, v1), add(x0, v0))\n"
     ]
    }
   ],
   "execution_count": 10
  },
  {
   "metadata": {
    "ExecuteTime": {
     "end_time": "2025-05-04T10:02:14.883537Z",
     "start_time": "2025-05-04T10:02:14.859475Z"
    }
   },
   "cell_type": "code",
   "source": "model.summary(pretty_print=False)",
   "id": "6dd2371daaf830d5",
   "outputs": [
    {
     "name": "stdout",
     "output_type": "stream",
     "text": [
      "Best depth=None\n",
      "\n",
      "Depth=1 fitness=0.25 expr: add(v0, v1)\n",
      "\n",
      "Depth=2 fitness=1.00 expr: add(mul(v0, v1), add(x0, v0))\n",
      "\n",
      "Depth=3 fitness=0.91 expr: sub(add(median(v0), sub(x0, x0)), sub(sqrt(x0), mul(v1, v0)))\n",
      "\n",
      "Depth=4 fitness=0.79 expr: abs(add(mul(exp(v1), neg(v0)), cos(min(v0))))\n",
      "\n"
     ]
    }
   ],
   "execution_count": 11
  },
  {
   "metadata": {
    "ExecuteTime": {
     "end_time": "2025-05-04T09:12:35.023201Z",
     "start_time": "2025-05-04T09:12:34.980374Z"
    }
   },
   "cell_type": "code",
   "source": [
    "#tree = model.get_expr('add(add(x0, v0), mul(v0, v1))')\n",
    "model.eval_expr('mean(add(add(x0, v0), mul(v0, v1)))')"
   ],
   "id": "3bf9566f735c5bd7",
   "outputs": [
    {
     "data": {
      "text/plain": [
       "1.0"
      ]
     },
     "execution_count": 6,
     "metadata": {},
     "output_type": "execute_result"
    }
   ],
   "execution_count": 6
  },
  {
   "metadata": {
    "ExecuteTime": {
     "end_time": "2025-05-04T08:28:29.916216Z",
     "start_time": "2025-05-04T08:28:29.859157Z"
    }
   },
   "cell_type": "code",
   "source": [
    "#x = model.predict_expr('add(sum(v0), v0)')\n",
    "x = model.predict_expr('sub(mul(median(v1), max(v1)), center(log10(v0)))')\n",
    "x = model.predict_expr('cos(abs(add(exp(v0), min(v1))))')"
   ],
   "id": "9225ace1cf7f00ec",
   "outputs": [],
   "execution_count": 24
  },
  {
   "metadata": {
    "ExecuteTime": {
     "end_time": "2025-05-04T08:28:30.179716Z",
     "start_time": "2025-05-04T08:28:30.160674Z"
    }
   },
   "cell_type": "code",
   "source": [
    "xtrue = X3d[:, 0, :]\n",
    "\n",
    "print(all(xtrue.isnan().flatten() == x.isnan().flatten()))"
   ],
   "id": "52ebfc35754f2c5e",
   "outputs": [
    {
     "name": "stdout",
     "output_type": "stream",
     "text": [
      "False\n"
     ]
    }
   ],
   "execution_count": 25
  },
  {
   "metadata": {
    "ExecuteTime": {
     "end_time": "2025-05-04T08:28:31.514803Z",
     "start_time": "2025-05-04T08:28:31.495168Z"
    }
   },
   "cell_type": "code",
   "source": "x",
   "id": "fb0eab4583058dd8",
   "outputs": [
    {
     "data": {
      "text/plain": [
       "tensor([[-0.3419,  0.9566,  0.8815, -0.0623, -0.0688,  0.8291, -0.1105,  0.5654,\n",
       "          0.4935, -0.1302, -0.6442,  0.7223, -0.9156,  0.9371, -0.6935,  0.1093,\n",
       "          0.9763, -0.4267, -0.7546,  0.9314,  0.4674, -0.9883,  0.5901,  0.2603,\n",
       "          0.4076,  0.0526, -0.9525,  0.9999,  0.8368,  0.9343,  0.5904,  0.5404,\n",
       "         -0.2127, -0.3202,  0.4832, -0.6088, -0.8140,  0.9746,  0.8513, -0.7504,\n",
       "          0.9154,  0.6441,  0.7702,     nan],\n",
       "        [-0.4058, -0.9952, -0.0910, -0.0444, -0.9762, -0.9864,  0.0088, -0.1557,\n",
       "          0.5687,  0.3126,  0.9455,  0.5041, -0.9367, -0.1286, -0.5777,  0.7856,\n",
       "         -0.1079,  0.5521,  0.9978, -0.5191,  0.7718,  0.2759, -0.2052, -0.9565,\n",
       "          0.0692, -0.7690, -0.2978,  0.7838, -0.8798,  0.6079,  0.4929, -0.9660,\n",
       "          0.9546,  0.1869, -0.7014, -0.3140, -0.9918,  0.2033, -1.0000,  0.2158,\n",
       "         -0.7846, -0.5388, -0.9549,  0.9907],\n",
       "        [-0.9196, -0.9454, -0.7191,  0.7165, -0.4568, -0.7601, -0.8469,  0.7668,\n",
       "         -0.6689,  0.5769, -0.9994, -0.4029, -0.7265,  0.9100, -0.9505,  0.9481,\n",
       "         -0.0706, -0.9533, -0.5893, -0.2506,  0.9675,  0.8798,  0.6965, -0.7682,\n",
       "         -0.0936,  0.6727, -0.2073,  0.4706, -0.3532, -0.5812,     nan,     nan,\n",
       "             nan,     nan,     nan,     nan,     nan,     nan,     nan,     nan,\n",
       "             nan,     nan,     nan,     nan],\n",
       "        [    nan,  0.9729, -0.9909,  0.9515, -0.7292, -0.4545, -0.7570, -0.8730,\n",
       "          0.6397, -0.5449,  0.8923, -0.7141,  0.4628, -0.2484,  0.1078, -0.9032,\n",
       "         -0.2410,  0.8854,  0.9915, -0.6282, -0.4625,  0.7337, -0.4606,  0.8399,\n",
       "         -0.7140, -0.9414,     nan,     nan,     nan,     nan,     nan,     nan,\n",
       "             nan,     nan,     nan,     nan,     nan,     nan,     nan,     nan,\n",
       "             nan,     nan,     nan,     nan],\n",
       "        [-0.9656,  0.8420, -0.9208, -0.6595,  0.7296, -0.6956, -0.4122, -0.9934,\n",
       "          0.0352, -0.0679, -0.9997, -0.4130, -0.1196,  0.9031, -0.8215, -0.7375,\n",
       "         -0.5047,  0.6195,  0.2023, -0.1541,  0.8469,  0.6478, -0.7137,  0.6180,\n",
       "          0.8692,  0.9904,  0.0548,  0.8521, -0.0526,  0.9603,  0.9993, -0.5466,\n",
       "         -0.7806, -0.1648, -0.9775, -0.7489,  0.2883,  0.7432, -0.9965,  0.9672,\n",
       "         -0.9928,  0.5726,  0.0494,     nan],\n",
       "        [ 0.9944, -0.5789, -0.9673, -0.7697, -0.0665,  0.4514,  0.4822, -0.1363,\n",
       "          0.2603, -0.9322,  0.9017, -0.2794,  0.7372,  0.4235,  0.6701,  0.0201,\n",
       "         -0.1547, -0.0481, -0.4393, -0.5547, -0.7425,  0.7674,  0.3461,  0.9896,\n",
       "          0.5627, -0.7741, -0.6068, -0.9162, -0.2682, -0.8937,  0.9833, -0.3422,\n",
       "          0.2845,  0.1461,  0.9537,     nan,     nan,     nan,     nan,     nan,\n",
       "             nan,     nan,     nan,     nan],\n",
       "        [ 0.5573,  0.3720,  0.6811, -0.9775,  0.9980,  0.9672, -0.7191, -0.9990,\n",
       "         -0.9779, -0.8815,  0.9131,  0.8000,  0.7090, -0.9579, -0.3565, -0.9605,\n",
       "         -0.9991, -0.8598,  0.0868,  0.9981, -0.7194,  0.5731, -0.9404, -0.5325,\n",
       "          0.7363, -0.4437,  0.7266, -0.6802, -0.3997, -0.8650,  0.1641,  0.1976,\n",
       "          0.9755,  0.8808, -0.0969, -0.6256,  0.6670, -0.4724,  0.8251, -0.9046,\n",
       "             nan,     nan,     nan,     nan],\n",
       "        [-0.9385, -0.5268,  0.0427,  0.9966, -0.8056, -0.9990, -0.0479,  0.3335,\n",
       "         -0.9750,  0.9013, -0.5607, -0.1639, -0.9969,  0.4125, -0.9943,  0.9911,\n",
       "         -0.1612, -0.9183,  0.9888, -0.1876,  0.6116, -0.1506, -0.9643,  0.8267,\n",
       "          0.9387, -0.5006, -0.7444, -0.1115,  0.6549, -0.1153, -0.0139, -0.3486,\n",
       "         -0.9909,  0.1345, -0.4698, -0.1158,  0.9327,  0.8466,  0.8234,     nan,\n",
       "             nan,     nan,     nan,     nan],\n",
       "        [ 0.4543,  0.6280, -0.1560, -0.4107, -0.4210, -0.9953,  0.7445,  0.6427,\n",
       "          0.1202,  0.3309, -0.7139,  0.7267, -0.4193,  0.6640,  0.9966, -0.4972,\n",
       "         -0.2639, -0.5226,  0.5519, -0.1962, -0.4810,  0.2683, -0.7516, -0.5163,\n",
       "          0.4562,  0.1177, -0.7439, -0.4534, -0.3137,  0.4923, -0.0473,  0.3481,\n",
       "         -0.5000, -0.2959, -0.7002,  0.8394, -0.7235,     nan,     nan,     nan,\n",
       "             nan,     nan,     nan,     nan],\n",
       "        [-0.2149,  0.4053,  0.7216, -0.4079, -0.3447,  0.1226, -0.8227,  0.0270,\n",
       "          0.9556,  0.9968, -0.9196, -0.4602,  0.7271, -0.5318, -0.3430,  0.9030,\n",
       "          0.9308,  0.8338, -0.9974,  0.0102,  0.4721,  0.5841, -0.9485, -0.6581,\n",
       "         -0.4227, -0.6751,  0.7595, -0.6014, -0.1488,  0.3999, -0.6704, -0.3924,\n",
       "         -0.9919,     nan,     nan,     nan,     nan,     nan,     nan,     nan,\n",
       "             nan,     nan,     nan,     nan]])"
      ]
     },
     "execution_count": 26,
     "metadata": {},
     "output_type": "execute_result"
    }
   ],
   "execution_count": 26
  },
  {
   "metadata": {
    "ExecuteTime": {
     "end_time": "2025-05-04T07:35:11.315862Z",
     "start_time": "2025-05-04T07:35:11.262299Z"
    }
   },
   "cell_type": "code",
   "source": "xtrue.shape",
   "id": "7b475366ed1835fd",
   "outputs": [
    {
     "data": {
      "text/plain": [
       "torch.Size([10, 47])"
      ]
     },
     "execution_count": 25,
     "metadata": {},
     "output_type": "execute_result"
    }
   ],
   "execution_count": 25
  },
  {
   "metadata": {
    "ExecuteTime": {
     "end_time": "2025-05-03T16:28:52.463375Z",
     "start_time": "2025-05-03T16:28:52.446348Z"
    }
   },
   "cell_type": "code",
   "source": "model.best_per_depth",
   "id": "fa672a3bfcec790e",
   "outputs": [
    {
     "data": {
      "text/plain": [
       "{1: (0.27977438108825686,\n",
       "  'add(v0, v1)',\n",
       "  [<deap.gp.Primitive at 0x11f0e4220>,\n",
       "   <deap.gp.Terminal at 0x108677bc0>,\n",
       "   <deap.gp.Terminal at 0x11e5f24c0>]),\n",
       " 2: (0.9361527231674195,\n",
       "  'sub(mul(v0, v1), sub(x0, v0))',\n",
       "  [<deap.gp.Primitive at 0x12949d300>,\n",
       "   <deap.gp.Primitive at 0x12949c360>,\n",
       "   <deap.gp.Terminal at 0x1294982c0>,\n",
       "   <deap.gp.Terminal at 0x129498100>,\n",
       "   <deap.gp.Primitive at 0x12949d260>,\n",
       "   <deap.gp.Terminal at 0x129499880>,\n",
       "   <deap.gp.Terminal at 0x1294982c0>]),\n",
       " 3: (0.9081979792327881,\n",
       "  'sub(mul(center(v1), mean(v0)), neg(add(v1, v0)))',\n",
       "  [<deap.gp.Primitive at 0x12a9c49a0>,\n",
       "   <deap.gp.Primitive at 0x12a9c47c0>,\n",
       "   <deap.gp.Primitive at 0x12a9c44a0>,\n",
       "   <deap.gp.Terminal at 0x12a901a80>,\n",
       "   <deap.gp.Primitive at 0x12a9c4400>,\n",
       "   <deap.gp.Terminal at 0x12a952840>,\n",
       "   <deap.gp.Primitive at 0x12a9c43b0>,\n",
       "   <deap.gp.Primitive at 0x12a9c4860>,\n",
       "   <deap.gp.Terminal at 0x12a901a80>,\n",
       "   <deap.gp.Terminal at 0x12a952840>]),\n",
       " 4: (0.3589653307876587,\n",
       "  'sub(mul(div(abs(v0), spearmanr(v1, v1)), sqrt(sqrt(v1))), div(pearsonr(sqrt(v1), mul(v1, v1)), sqrt(exp(-0.73))))',\n",
       "  [<deap.gp.Primitive at 0x11e5bd9e0>,\n",
       "   <deap.gp.Primitive at 0x11e5bda80>,\n",
       "   <deap.gp.Primitive at 0x11e5be390>,\n",
       "   <deap.gp.Primitive at 0x11e5be430>,\n",
       "   <deap.gp.Terminal at 0x11e59f700>,\n",
       "   <deap.gp.Primitive at 0x11e5be3e0>,\n",
       "   <deap.gp.Terminal at 0x11f4af940>,\n",
       "   <deap.gp.Terminal at 0x11f4af940>,\n",
       "   <deap.gp.Primitive at 0x11e5bfb00>,\n",
       "   <deap.gp.Primitive at 0x11e5bfb00>,\n",
       "   <deap.gp.Terminal at 0x11f4af940>,\n",
       "   <deap.gp.Primitive at 0x11e5be750>,\n",
       "   <deap.gp.Primitive at 0x11e5be700>,\n",
       "   <deap.gp.Primitive at 0x11e5bfb00>,\n",
       "   <deap.gp.Terminal at 0x11f4af940>,\n",
       "   <deap.gp.Primitive at 0x11e5bda80>,\n",
       "   <deap.gp.Terminal at 0x11f4af940>,\n",
       "   <deap.gp.Terminal at 0x11f4af940>,\n",
       "   <deap.gp.Primitive at 0x11e5bd800>,\n",
       "   <deap.gp.Primitive at 0x11e5be0c0>,\n",
       "   <deap.gp.randc at 0x11e5be120>])}"
      ]
     },
     "execution_count": 8,
     "metadata": {},
     "output_type": "execute_result"
    }
   ],
   "execution_count": 8
  },
  {
   "metadata": {
    "ExecuteTime": {
     "end_time": "2025-05-03T16:52:20.383465Z",
     "start_time": "2025-05-03T16:52:20.345445Z"
    }
   },
   "cell_type": "code",
   "source": "(model.hof[0].fitness)",
   "id": "458ecdb47237180a",
   "outputs": [
    {
     "data": {
      "text/plain": [
       "0.9843836096267701"
      ]
     },
     "execution_count": 5,
     "metadata": {},
     "output_type": "execute_result"
    }
   ],
   "execution_count": 5
  },
  {
   "metadata": {
    "ExecuteTime": {
     "end_time": "2025-05-03T12:07:02.176593Z",
     "start_time": "2025-05-03T12:07:02.137610Z"
    }
   },
   "cell_type": "code",
   "source": [
    "for t in (model.S, model.V):\n",
    "    for i in model.pset.primitives[t]:\n",
    "        print(i.name)"
   ],
   "id": "b363b3ee3229a88c",
   "outputs": [
    {
     "name": "stdout",
     "output_type": "stream",
     "text": [
      "neg\n",
      "abs\n",
      "sin\n",
      "cos\n",
      "tan\n",
      "sqrt\n",
      "exp\n",
      "log\n",
      "log10\n",
      "mean\n",
      "median\n",
      "sum\n",
      "std\n",
      "min\n",
      "max\n",
      "add\n",
      "sub\n",
      "mul\n",
      "div\n",
      "cov\n",
      "pearsonr\n",
      "spearmanr\n",
      "neg\n",
      "abs\n",
      "sin\n",
      "cos\n",
      "tan\n",
      "sqrt\n",
      "exp\n",
      "log\n",
      "log10\n",
      "center\n",
      "add\n",
      "add\n",
      "add\n",
      "sub\n",
      "sub\n",
      "sub\n",
      "mul\n",
      "mul\n",
      "mul\n",
      "div\n",
      "div\n",
      "div\n"
     ]
    }
   ],
   "execution_count": 8
  },
  {
   "metadata": {
    "ExecuteTime": {
     "end_time": "2025-05-03T12:09:25.074568Z",
     "start_time": "2025-05-03T12:09:25.058084Z"
    }
   },
   "cell_type": "code",
   "source": [
    "i = -11\n",
    "print(model.pset.primitives[model.V][i].args)\n",
    "print(model.pset.primitives[model.V][i].ret)\n",
    "print(model.pset.primitives[model.V][i].name)\n",
    "dir(model.pset.primitives[model.V][i])"
   ],
   "id": "ceca49f432e8e21a",
   "outputs": [
    {
     "name": "stdout",
     "output_type": "stream",
     "text": [
      "[<class 'polysym.regressor.Vector'>, <class 'polysym.regressor.Scalar'>]\n",
      "<class 'polysym.regressor.Vector'>\n",
      "add\n"
     ]
    },
    {
     "data": {
      "text/plain": [
       "['__class__',\n",
       " '__delattr__',\n",
       " '__dir__',\n",
       " '__doc__',\n",
       " '__eq__',\n",
       " '__firstlineno__',\n",
       " '__format__',\n",
       " '__ge__',\n",
       " '__getattribute__',\n",
       " '__getstate__',\n",
       " '__gt__',\n",
       " '__hash__',\n",
       " '__init__',\n",
       " '__init_subclass__',\n",
       " '__le__',\n",
       " '__lt__',\n",
       " '__module__',\n",
       " '__ne__',\n",
       " '__new__',\n",
       " '__reduce__',\n",
       " '__reduce_ex__',\n",
       " '__repr__',\n",
       " '__setattr__',\n",
       " '__sizeof__',\n",
       " '__slots__',\n",
       " '__static_attributes__',\n",
       " '__str__',\n",
       " '__subclasshook__',\n",
       " 'args',\n",
       " 'arity',\n",
       " 'format',\n",
       " 'name',\n",
       " 'ret',\n",
       " 'seq']"
      ]
     },
     "execution_count": 22,
     "metadata": {},
     "output_type": "execute_result"
    }
   ],
   "execution_count": 22
  },
  {
   "metadata": {
    "ExecuteTime": {
     "end_time": "2025-05-03T11:46:40.534025Z",
     "start_time": "2025-05-03T11:46:40.495387Z"
    }
   },
   "cell_type": "code",
   "source": "model.pset.terminals.items()",
   "id": "622df7a1a7a32f70",
   "outputs": [
    {
     "data": {
      "text/plain": [
       "dict_items([(<class 'polysym.regressor.Scalar'>, [<deap.gp.Terminal object at 0x10e18af40>, <class 'deap.gp.randc'>]), (<class 'polysym.regressor.Vector'>, [<deap.gp.Terminal object at 0x10d1eacc0>, <deap.gp.Terminal object at 0x10d8d3840>])])"
      ]
     },
     "execution_count": 5,
     "metadata": {},
     "output_type": "execute_result"
    }
   ],
   "execution_count": 5
  },
  {
   "metadata": {},
   "cell_type": "code",
   "outputs": [
    {
     "name": "stdout",
     "output_type": "stream",
     "text": [
      "Scalar <class 'type'>\n",
      "['x0', 'randc']\n",
      "Vector <class 'type'>\n",
      "['v0', 'v1']\n"
     ]
    }
   ],
   "execution_count": 72,
   "source": [
    "for ret_type, terms in model.pset.terminals.items():\n",
    "    print(ret_type.__name__, type(ret_type))\n",
    "    print([i.name for i in terms])\n"
   ],
   "id": "13035cbd47d8f5d"
  },
  {
   "metadata": {},
   "cell_type": "code",
   "outputs": [
    {
     "data": {
      "text/plain": [
       "{'ARG0': x0, 'ARG1': v0, 'ARG2': v1}"
      ]
     },
     "execution_count": 45,
     "metadata": {},
     "output_type": "execute_result"
    }
   ],
   "execution_count": 45,
   "source": [
    "rd = {f'ARG{i}': s for i, s in enumerate(model.symbols)}\n",
    "rd"
   ],
   "id": "6142c868868b0e8e"
  },
  {
   "metadata": {},
   "cell_type": "code",
   "outputs": [
    {
     "data": {
      "text/plain": [
       "'hello'"
      ]
     },
     "execution_count": 85,
     "metadata": {},
     "output_type": "execute_result"
    }
   ],
   "execution_count": 85,
   "source": [
    "import sympy as sp\n",
    "\n",
    "str(sp.symbols('hello'))"
   ],
   "id": "9ab9718c387c03ab"
  },
  {
   "metadata": {},
   "cell_type": "code",
   "outputs": [
    {
     "data": {
      "text/plain": [
       "deap.creator.Individual"
      ]
     },
     "execution_count": 83,
     "metadata": {},
     "output_type": "execute_result"
    }
   ],
   "execution_count": 83,
   "source": [
    "ind = model.toolbox.population_depth_2(n=1)[0]\n",
    "type(ind)"
   ],
   "id": "5533ed59b135ad05"
  },
  {
   "metadata": {},
   "cell_type": "code",
   "outputs": [
    {
     "data": {
      "text/plain": [
       "[]"
      ]
     },
     "execution_count": 32,
     "metadata": {},
     "output_type": "execute_result"
    }
   ],
   "source": "",
   "id": "aaace1879bc28b5a",
   "execution_count": null
  },
  {
   "metadata": {},
   "cell_type": "code",
   "outputs": [],
   "execution_count": 20,
   "source": [
    "j = 0\n",
    "for ret_type, terms in model.pset.terminals.items():\n",
    "    for i, term in enumerate(terms):\n",
    "        n = term.name\n",
    "        if n[-1] == '0':\n",
    "            nn = 'x0'\n",
    "        else:\n",
    "            nn = f'v{j}'\n",
    "            j += 1\n",
    "        model.pset.terminals[ret_type][i].name = nn"
   ],
   "id": "7bdad666630b832c"
  },
  {
   "metadata": {
    "ExecuteTime": {
     "end_time": "2025-04-28T10:21:00.837675Z",
     "start_time": "2025-04-28T10:21:00.309726Z"
    }
   },
   "cell_type": "code",
   "source": [
    "from sympy import Expr\n",
    "import sympy as sp\n",
    "from graphviz import Digraph\n",
    "from polysym.utils import _round_floats\n",
    "\n",
    "def draw_expr_tree(expr: Expr, filename: str = 'expr_tree', format: str = 'png') -> None:\n",
    "    \"\"\"\n",
    "    Render the tree of a SymPy expression using Graphviz,\n",
    "    with the full expression printed below.\n",
    "    \"\"\"\n",
    "    dot = Digraph(format=format)\n",
    "    # set the graph label to the expression and put it at the bottom\n",
    "    dot.graph_attr['spi'] = '300'\n",
    "    dot.graph_attr['size'] = '20,20!'\n",
    "    #dot.attr(label=str(expr), labelloc='b', fontsize='12')\n",
    "\n",
    "    counter = {'i': 0}\n",
    "\n",
    "    def node_label(e):\n",
    "        return e.func.__name__ if e.args else str(e)\n",
    "\n",
    "    def add(e):\n",
    "        idx = str(counter['i'])\n",
    "        counter['i'] += 1\n",
    "        dot.node(idx, node_label(e))\n",
    "        for arg in e.args:\n",
    "            child_idx = add(arg)\n",
    "            dot.edge(idx, child_idx)\n",
    "        return idx\n",
    "\n",
    "    add(expr)\n",
    "    dot.render(filename, cleanup=True)\n",
    "\n",
    "expr = model.best_per_depth[3][1]\n",
    "expr = 'unary_log(binary_pow(unary_sum(v1), binary_pearsonr(v1, v0)))'\n",
    "expr = 'binary_mul(BSS, unary_log(unary_abs(binary_pearsonr(o, f))))'\n",
    "t = 'abs(bss) * log(abs(pearsonr(v1,v0)))'\n",
    "sym_expr = sp.sympify(expr, locals=model.operators.map)\n",
    "sym_expr = _round_floats(sym_expr)\n",
    "sym_expr = sym_expr.evalf(2)\n",
    "draw_expr_tree(sym_expr)\n",
    "# TODO: Absolute correlation score instead of R^2?\n",
    "sym_expr"
   ],
   "id": "c94971231ecd45c1",
   "outputs": [
    {
     "data": {
      "text/plain": [
       "BSS*log(Abs(pearsonr(o, f)))"
      ],
      "text/latex": "$\\displaystyle BSS \\log{\\left(\\left|{\\operatorname{pearsonr}{\\left(o,f \\right)}}\\right| \\right)}$"
     },
     "execution_count": 230,
     "metadata": {},
     "output_type": "execute_result"
    }
   ],
   "execution_count": 230
  },
  {
   "metadata": {
    "ExecuteTime": {
     "end_time": "2025-04-27T21:07:27.601651Z",
     "start_time": "2025-04-27T21:07:27.583616Z"
    }
   },
   "cell_type": "code",
   "source": "expr",
   "id": "6fb36be1a6a7ef35",
   "outputs": [
    {
     "data": {
      "text/plain": [
       "'unary_log(binary_pow(unary_sum(v1), binary_pearsonr(v1, v0)))'"
      ]
     },
     "execution_count": 221,
     "metadata": {},
     "output_type": "execute_result"
    }
   ],
   "execution_count": 221
  },
  {
   "metadata": {
    "ExecuteTime": {
     "end_time": "2025-04-26T13:26:14.288434Z",
     "start_time": "2025-04-26T13:26:14.107729Z"
    }
   },
   "cell_type": "code",
   "source": "sp.pprint(expr)",
   "id": "4aa6857d6cbba833",
   "outputs": [
    {
     "name": "stdout",
     "output_type": "stream",
     "text": [
      " 10.69⋅v₁                 \n",
      "────────── + mean(v₀ - v₁)\n",
      "v₁ + 99.33                \n"
     ]
    }
   ],
   "execution_count": 69
  },
  {
   "metadata": {
    "ExecuteTime": {
     "end_time": "2025-04-26T13:01:34.131404Z",
     "start_time": "2025-04-26T13:01:34.060003Z"
    }
   },
   "cell_type": "code",
   "source": [
    "import sympy as sp\n",
    "\n",
    "sp.sympify(model.best_per_depth[3][1])\n",
    "\n",
    "locals_map = {\n",
    "    'binary_add': sp.Add,\n",
    "    'binary_sub': lambda a, b: a - b,\n",
    "    'binary_mul': sp.Mul,\n",
    "    'binary_div': lambda a, b: a / b,\n",
    "    'unary_neg': lambda x: -x,\n",
    "    'unary_sin': sp.sin,\n",
    "    'unary_cos': sp.cos,\n",
    "    'unary_mean': lambda x: sp.Function('mean')(x),\n",
    "    'unary_x': lambda x: sp.Function('x')(x)\n",
    "}\n",
    "\n",
    "for depth, (fitness, expr, ind) in model.best_per_depth.items():\n",
    "    # now pass locals_map so sympy knows how to translate\n",
    "    sym_expr = sp.sympify(expr, locals=locals_map)\n",
    "    print(f\"Depth={depth} fitness={fitness:.2f} ; expr = {sym_expr}\")"
   ],
   "id": "4b62a1091569f856",
   "outputs": [
    {
     "name": "stdout",
     "output_type": "stream",
     "text": [
      "Depth=1 fitness=0.26 ; expr = v0 + v1\n",
      "Depth=2 fitness=0.25 ; expr = v0 + v1 + 0.91116815333641\n",
      "Depth=3 fitness=0.97 ; expr = v0*v1 + v0 + x0\n",
      "Depth=4 fitness=0.96 ; expr = v0*v1 + v0 - v1 + x0 - 2.44633418120992\n",
      "Depth=5 fitness=0.95 ; expr = v0*v1 + v0 + v1**2 - v1 + x0\n",
      "Depth=6 fitness=0.94 ; expr = v0*v1 + v0 + x0 - mean(v1)\n"
     ]
    }
   ],
   "execution_count": 46
  },
  {
   "metadata": {
    "ExecuteTime": {
     "end_time": "2025-04-26T10:38:03.198251Z",
     "start_time": "2025-04-26T10:38:03.174889Z"
    }
   },
   "cell_type": "code",
   "source": "model.eval_expr('binary_add(binary_add(x0, v0), binary_mul(v0, v1))')",
   "id": "9621f26330f440bc",
   "outputs": [
    {
     "data": {
      "text/plain": [
       "1.0"
      ]
     },
     "execution_count": 36,
     "metadata": {},
     "output_type": "execute_result"
    }
   ],
   "execution_count": 36
  },
  {
   "metadata": {
    "ExecuteTime": {
     "end_time": "2025-04-25T09:20:24.418564Z",
     "start_time": "2025-04-25T09:20:24.370260Z"
    }
   },
   "cell_type": "code",
   "source": [
    "import sympy as sp\n",
    "\n",
    "ind = model.best_per_depth[3][2]\n",
    "expr = sp.sympify('binary_add(binary_mul(unary_neg(-14), binary_mul(v0, v1)), binary_mul(unary_neg(v0), -14))')\n",
    "\n",
    "print(expr)\n",
    "print(sp.simplify(expr))"
   ],
   "id": "6c64ae7544f2506b",
   "outputs": [
    {
     "name": "stdout",
     "output_type": "stream",
     "text": [
      "binary_add(binary_mul(unary_neg(-14), binary_mul(v0, v1)), binary_mul(unary_neg(v0), -14))\n",
      "binary_add(binary_mul(unary_neg(-14), binary_mul(v0, v1)), binary_mul(unary_neg(v0), -14))\n"
     ]
    }
   ],
   "execution_count": 199
  },
  {
   "metadata": {
    "ExecuteTime": {
     "end_time": "2025-05-03T16:30:59.983643Z",
     "start_time": "2025-05-03T16:30:59.960467Z"
    }
   },
   "cell_type": "code",
   "source": [
    "for i in list(model.pset.terminals.values())[0]:\n",
    "    print(i.name)\n",
    "\n",
    "print(type(model.pset.terminals))\n",
    "print(model.pset.terminals)"
   ],
   "id": "0e6d56ba",
   "outputs": [
    {
     "name": "stdout",
     "output_type": "stream",
     "text": [
      "x0\n",
      "randc\n",
      "<class 'collections.defaultdict'>\n",
      "defaultdict(<class 'list'>, {<class 'polysym.regressor.Scalar'>: [<deap.gp.Terminal object at 0x11f153c80>, <class 'deap.gp.randc'>], <class 'polysym.regressor.Vector'>: [<deap.gp.Terminal object at 0x11f153dc0>, <deap.gp.Terminal object at 0x11f1521c0>]})\n"
     ]
    }
   ],
   "execution_count": 17
  },
  {
   "metadata": {},
   "cell_type": "code",
   "outputs": [
    {
     "name": "stdout",
     "output_type": "stream",
     "text": [
      "binary_add(binary_add(x0, v0), binary_mul(v0, v1))\n"
     ]
    }
   ],
   "execution_count": 169,
   "source": "print(model.best_expr)",
   "id": "af410fb95943619d"
  },
  {
   "metadata": {
    "ExecuteTime": {
     "end_time": "2025-04-26T10:29:19.820334Z",
     "start_time": "2025-04-26T10:29:19.769358Z"
    }
   },
   "cell_type": "code",
   "source": "model.depth_quota",
   "id": "1b772e2d9c1e55b4",
   "outputs": [
    {
     "data": {
      "text/plain": [
       "{4: np.int64(100), 5: np.int64(100), 6: np.int64(100)}"
      ]
     },
     "execution_count": 30,
     "metadata": {},
     "output_type": "execute_result"
    }
   ],
   "execution_count": 30
  },
  {
   "metadata": {
    "ExecuteTime": {
     "end_time": "2025-05-03T16:52:01.614875Z",
     "start_time": "2025-05-03T16:52:01.485562Z"
    }
   },
   "cell_type": "code",
   "source": "model.plot_differential_loss()",
   "id": "339a4418c0f23ca7",
   "outputs": [
    {
     "data": {
      "text/plain": [
       "<Figure size 1000x600 with 1 Axes>"
      ],
      "image/png": "[encoded data removed]"
     },
     "metadata": {},
     "output_type": "display_data"
    }
   ],
   "execution_count": 4
  },
  {
   "metadata": {
    "ExecuteTime": {
     "end_time": "2025-05-03T16:30:05.437930Z",
     "start_time": "2025-05-03T16:30:05.360555Z"
    }
   },
   "cell_type": "code",
   "source": "model.plot_depth_per_gen()",
   "id": "d0d30fc5b734493",
   "outputs": [
    {
     "data": {
      "text/plain": [
       "<Figure size 1000x600 with 1 Axes>"
      ],
      "image/png": "[encoded data removed]"
     },
     "metadata": {},
     "output_type": "display_data"
    }
   ],
   "execution_count": 12
  },
  {
   "metadata": {
    "ExecuteTime": {
     "end_time": "2025-05-03T12:56:18.809255Z",
     "start_time": "2025-05-03T12:56:18.761613Z"
    }
   },
   "cell_type": "code",
   "source": "type(model.hof[0])",
   "id": "4385e9d2401a566c",
   "outputs": [
    {
     "data": {
      "text/plain": [
       "deap.creator.Individual"
      ]
     },
     "execution_count": 14,
     "metadata": {},
     "output_type": "execute_result"
    }
   ],
   "execution_count": 14
  },
  {
   "metadata": {
    "ExecuteTime": {
     "end_time": "2025-04-25T10:55:22.678483Z",
     "start_time": "2025-04-25T10:55:22.316526Z"
    }
   },
   "cell_type": "code",
   "source": [
    "from polysym.eval_rank import is_valid_tree\n",
    "\n",
    "depth = 5\n",
    "operators = Operators(['add', 'sub', 'mul', 'div', 'neg', 'mean'])\n",
    "model = PolySymModel(X3d=X3d,\n",
    "                        X2d=X2d,\n",
    "                        y=y1d,\n",
    "                        operators=operators,\n",
    "                        min_complexity=5,\n",
    "                        max_complexity=depth,\n",
    "                        scale=False,\n",
    "                        pop_size=300,\n",
    "                        stopping_criterion=.99,\n",
    "                        max_iter=20,\n",
    "                        fitness_fn = r2,\n",
    "                        fitness_obj = 1,\n",
    "                        seed=42,\n",
    "                        verbose=1,\n",
    "                        workers=-1)\n",
    "\n",
    "pop = model.toolbox.population(n=100)\n",
    "heights_constraint = [i.height != depth for i in pop]\n",
    "dim_mismatches = [model.toolbox.evaluate(i)[1] for i in pop]\n",
    "are_valids = [is_valid_tree(ind, 1) for ind in pop]\n",
    "any(heights_constraint), any(dim_mismatches), sum(dim_mismatches), sum(are_valids)"
   ],
   "id": "f32ba46b2808f05d",
   "outputs": [
    {
     "data": {
      "text/plain": [
       "(False, False, 0, 100)"
      ]
     },
     "execution_count": 227,
     "metadata": {},
     "output_type": "execute_result"
    }
   ],
   "execution_count": 227
  },
  {
   "metadata": {
    "ExecuteTime": {
     "end_time": "2025-04-30T14:57:04.584361Z",
     "start_time": "2025-04-30T14:57:04.565036Z"
    }
   },
   "cell_type": "code",
   "source": [
    "import sympy as sp\n",
    "\n",
    "model.pset.primitives[object][0].__dir__()"
   ],
   "id": "78350cb8689393a",
   "outputs": [
    {
     "data": {
      "text/plain": [
       "['__module__',\n",
       " '__firstlineno__',\n",
       " '__doc__',\n",
       " '__slots__',\n",
       " '__init__',\n",
       " 'format',\n",
       " '__eq__',\n",
       " '__static_attributes__',\n",
       " 'args',\n",
       " 'arity',\n",
       " 'name',\n",
       " 'ret',\n",
       " 'seq',\n",
       " '__hash__',\n",
       " '__new__',\n",
       " '__repr__',\n",
       " '__str__',\n",
       " '__getattribute__',\n",
       " '__setattr__',\n",
       " '__delattr__',\n",
       " '__lt__',\n",
       " '__le__',\n",
       " '__ne__',\n",
       " '__gt__',\n",
       " '__ge__',\n",
       " '__reduce_ex__',\n",
       " '__reduce__',\n",
       " '__getstate__',\n",
       " '__subclasshook__',\n",
       " '__init_subclass__',\n",
       " '__format__',\n",
       " '__sizeof__',\n",
       " '__dir__',\n",
       " '__class__']"
      ]
     },
     "execution_count": 17,
     "metadata": {},
     "output_type": "execute_result"
    }
   ],
   "execution_count": 17
  },
  {
   "metadata": {
    "ExecuteTime": {
     "end_time": "2025-04-30T14:57:33.398370Z",
     "start_time": "2025-04-30T14:57:33.379926Z"
    }
   },
   "cell_type": "code",
   "source": "model.pset.primitives[object][0].seq",
   "id": "c990e63b7c06db96",
   "outputs": [
    {
     "data": {
      "text/plain": [
       "'unary_neg({0})'"
      ]
     },
     "execution_count": 22,
     "metadata": {},
     "output_type": "execute_result"
    }
   ],
   "execution_count": 22
  },
  {
   "metadata": {
    "ExecuteTime": {
     "end_time": "2025-04-30T16:09:35.551467Z",
     "start_time": "2025-04-30T16:09:35.507958Z"
    }
   },
   "cell_type": "code",
   "source": "model.pset.terminals[object]",
   "id": "df4d8f13f0574360",
   "outputs": [
    {
     "data": {
      "text/plain": [
       "[<deap.gp.Terminal at 0x126ccd500>,\n",
       " <deap.gp.Terminal at 0x126c94c00>,\n",
       " <deap.gp.Terminal at 0x13093fdc0>,\n",
       " deap.gp.randc]"
      ]
     },
     "execution_count": 24,
     "metadata": {},
     "output_type": "execute_result"
    }
   ],
   "execution_count": 24
  },
  {
   "metadata": {},
   "cell_type": "code",
   "outputs": [],
   "execution_count": null,
   "source": [
    "# dfs generation:\n",
    "# Root node always operator (reducer/unary?)\n",
    "# Recursive call with required rank of variable (or free)\n",
    "# Choose whether operator or variable\n",
    "# If depth reached (or caller func did call a stop) add variable (terminal)\n"
   ],
   "id": "ed7df47a8cef6246"
  }
 ],
 "metadata": {
  "kernelspec": {
   "display_name": "Python 3 (ipykernel)",
   "language": "python",
   "name": "python3"
  },
  "language_info": {
   "codemirror_mode": {
    "name": "ipython",
    "version": 3
   },
   "file_extension": ".py",
   "mimetype": "text/x-python",
   "name": "python",
   "nbconvert_exporter": "python",
   "pygments_lexer": "ipython3",
   "version": "3.13.0"
  }
 },
 "nbformat": 4,
 "nbformat_minor": 5
}
