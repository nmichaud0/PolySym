{
 "cells": [
  {
   "metadata": {
    "ExecuteTime": {
     "end_time": "2025-04-21T16:16:58.737658Z",
     "start_time": "2025-04-21T16:16:58.673975Z"
    }
   },
   "cell_type": "code",
   "source": [
    "%load_ext autoreload\n",
    "%autoreload 2"
   ],
   "id": "b9d39d5dc297065b",
   "outputs": [],
   "execution_count": 1
  },
  {
   "cell_type": "code",
   "id": "2c9df61e",
   "metadata": {
    "ExecuteTime": {
     "end_time": "2025-04-21T16:28:05.111595Z",
     "start_time": "2025-04-21T16:28:05.000022Z"
    }
   },
   "source": [
    "import torch\n",
    "from polysym import Regressor, Operators\n",
    "\n",
    "n_obs = 1000\n",
    "\n",
    "X3d = torch.zeros((n_obs, 2, 100))\n",
    "X2d = torch.zeros((n_obs, 1))\n",
    "y1d = torch.zeros(n_obs)\n",
    "y2d = torch.zeros(n_obs, 100)\n",
    "\n",
    "for obs in range(n_obs):\n",
    "\n",
    "    start, end = torch.rand(2) * 100\n",
    "\n",
    "    x1 = torch.linspace(start, end, 100)\n",
    "    x2 = torch.cos(torch.linspace(start, end, 100))\n",
    "    b = torch.randint(low=-10, high=10, size=(1, 1))\n",
    "\n",
    "    y = (torch.cos(x1) + ((x1 * x2/ 10))) + b\n",
    "\n",
    "    X3d[obs, 0] = x1\n",
    "    X3d[obs, 1] = x2\n",
    "    X2d[obs] = b\n",
    "    y1d[obs] = torch.mean(y).item()\n",
    "    y2d[obs] = y\n",
    "\n",
    "operators = Operators(['add', 'sub', 'mul', 'div', 'pow', 'cos',\n",
    "                       'mean', 'std', 'sin', 'max', 'min'])\n",
    "\n",
    "regressor2d = Regressor(X3d=X3d,\n",
    "                        X2d=X2d,\n",
    "                        y=y2d,\n",
    "                        operators=operators,\n",
    "                        max_complexity=5,\n",
    "                        pop_size=100,\n",
    "                        max_iter=200,\n",
    "                        seed=42,\n",
    "                        verbose=1,\n",
    "                        workers=-1)\n"
   ],
   "outputs": [],
   "execution_count": 11
  },
  {
   "cell_type": "code",
   "id": "146f9994",
   "metadata": {
    "ExecuteTime": {
     "end_time": "2025-04-21T16:29:42.123450Z",
     "start_time": "2025-04-21T16:28:09.151875Z"
    }
   },
   "source": "regressor2d.fit()",
   "outputs": [
    {
     "name": "stderr",
     "output_type": "stream",
     "text": [
      "2025-04-21 18:28:09,238 - INFO - Running iteration 0/200\n",
      "2025-04-21 18:28:15,798 - INFO - Running iteration 10/200\n",
      "2025-04-21 18:28:19,892 - INFO - Running iteration 20/200\n",
      "2025-04-21 18:28:23,700 - INFO - Running iteration 30/200\n",
      "2025-04-21 18:28:27,661 - INFO - Running iteration 40/200\n",
      "2025-04-21 18:28:31,141 - INFO - Running iteration 50/200\n",
      "2025-04-21 18:28:34,203 - INFO - Running iteration 60/200\n",
      "2025-04-21 18:28:38,213 - INFO - Running iteration 70/200\n",
      "2025-04-21 18:28:44,406 - INFO - Running iteration 80/200\n",
      "2025-04-21 18:28:50,526 - INFO - Running iteration 90/200\n",
      "2025-04-21 18:28:55,929 - INFO - Running iteration 100/200\n",
      "2025-04-21 18:29:00,885 - INFO - Running iteration 110/200\n",
      "2025-04-21 18:29:08,022 - INFO - Running iteration 120/200\n",
      "2025-04-21 18:29:12,762 - INFO - Running iteration 130/200\n",
      "2025-04-21 18:29:16,840 - INFO - Running iteration 140/200\n",
      "2025-04-21 18:29:22,552 - INFO - Running iteration 150/200\n",
      "2025-04-21 18:29:27,650 - INFO - Running iteration 160/200\n",
      "2025-04-21 18:29:33,089 - INFO - Running iteration 170/200\n",
      "2025-04-21 18:29:35,619 - INFO - Running iteration 180/200\n",
      "2025-04-21 18:29:38,447 - INFO - Running iteration 190/200\n",
      "2025-04-21 18:29:42,113 - INFO - Finished iterating, wrapping up fitting...\n",
      "2025-04-21 18:29:42,117 - INFO - Overall best depth=3 fitness=3.7229678630828857 ; expr=binary_pow(49.02849593388748, binary_mul(v1, v0))\n"
     ]
    }
   ],
   "execution_count": 12
  },
  {
   "cell_type": "code",
   "id": "0e6d56ba",
   "metadata": {
    "ExecuteTime": {
     "end_time": "2025-04-21T16:30:02.229408Z",
     "start_time": "2025-04-21T16:30:02.207236Z"
    }
   },
   "source": "regressor2d.score()",
   "outputs": [
    {
     "data": {
      "text/plain": [
       "3.7229678630828857"
      ]
     },
     "execution_count": 13,
     "metadata": {},
     "output_type": "execute_result"
    }
   ],
   "execution_count": 13
  },
  {
   "metadata": {
    "ExecuteTime": {
     "end_time": "2025-04-21T16:30:04.223953Z",
     "start_time": "2025-04-21T16:30:04.205111Z"
    }
   },
   "cell_type": "code",
   "source": "regressor2d.best_expr",
   "id": "af410fb95943619d",
   "outputs": [
    {
     "data": {
      "text/plain": [
       "binary_pow(49.02849593388748, binary_mul(v1, v0))"
      ],
      "text/latex": "$\\displaystyle \\operatorname{binary}_{pow}{\\left(49.02849593388748,\\operatorname{binary}_{mul}{\\left(v_{1},v_{0} \\right)} \\right)}$"
     },
     "execution_count": 14,
     "metadata": {},
     "output_type": "execute_result"
    }
   ],
   "execution_count": 14
  },
  {
   "metadata": {
    "ExecuteTime": {
     "end_time": "2025-04-21T16:30:09.214521Z",
     "start_time": "2025-04-21T16:30:09.197498Z"
    }
   },
   "cell_type": "code",
   "source": "regressor2d.summary()",
   "id": "6dd2371daaf830d5",
   "outputs": [
    {
     "name": "stdout",
     "output_type": "stream",
     "text": [
      "Best depth=3.8836069107055664 fitness=3.8836069107055664 ; expr=binary_pow(49.02849593388748, binary_mul(v1, v0))\n",
      "Depth=1 fitness=3.8836069107055664 ; expr=binary_add(v1, x0)\n",
      "Depth=2 fitness=3.854874849319458 ; expr=binary_add(binary_add(x0, v1), unary_mean(v1))\n",
      "Depth=3 fitness=3.7229678630828857 ; expr=binary_add(binary_pow(unary_max(x0), unary_cos(v0)), x0)\n",
      "Depth=4 fitness=6.961439609527588 ; expr=binary_add(v1, unary_min(binary_pow(binary_sub(-51.74724200074575, -54.922626196122444), x0)))\n",
      "Depth=5 fitness=3.8836069107055664 ; expr=binary_add(binary_sub(unary_mean(x0), unary_mean(unary_max(unary_mean(x0)))), binary_add(x0, v1))\n"
     ]
    }
   ],
   "execution_count": 15
  },
  {
   "metadata": {},
   "cell_type": "code",
   "outputs": [],
   "execution_count": null,
   "source": "",
   "id": "e0e118458c4b661e"
  }
 ],
 "metadata": {
  "kernelspec": {
   "display_name": "venv",
   "language": "python",
   "name": "venv"
  },
  "language_info": {
   "codemirror_mode": {
    "name": "ipython",
    "version": 3
   },
   "file_extension": ".py",
   "mimetype": "text/x-python",
   "name": "python",
   "nbconvert_exporter": "python",
   "pygments_lexer": "ipython3",
   "version": "3.13.0"
  }
 },
 "nbformat": 4,
 "nbformat_minor": 5
}
