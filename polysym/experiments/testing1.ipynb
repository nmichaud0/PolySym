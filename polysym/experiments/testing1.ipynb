{
 "cells": [
  {
   "cell_type": "code",
   "id": "2c9df61e",
   "metadata": {
    "ExecuteTime": {
     "end_time": "2025-04-27T13:37:06.142045Z",
     "start_time": "2025-04-27T13:37:05.703Z"
    }
   },
   "source": [
    "%load_ext autoreload\n",
    "%autoreload 2\n",
    "\n",
    "import torch\n",
    "# from PolySym import Regressor, Operators\n",
    "from polysym.torch_operators_2 import Operators\n",
    "from polysym.regressor import Configurator\n",
    "from polysym.model import PolySymModel\n",
    "from polysym.evaluation import r2\n",
    "from polysym.utils import compile_tree\n",
    "\n",
    "n_obs = 1000\n",
    "\n",
    "X3d = torch.zeros((n_obs, 2, 100))\n",
    "X2d = torch.zeros((n_obs, 1))\n",
    "y1d = torch.zeros(n_obs)\n",
    "y2d = torch.zeros(n_obs, 100)\n",
    "\n",
    "for obs in range(n_obs):\n",
    "\n",
    "    start, end = torch.rand(2) * 100\n",
    "\n",
    "    x1 = torch.linspace(start, end, 100)\n",
    "    x2 = torch.cos(torch.linspace(start, end, 100))\n",
    "    b = torch.randint(low=-10, high=10, size=(1, 1))\n",
    "\n",
    "    y = (b + x1 + (x1 * x2))\n",
    "    # expr=binary_add(binary_add(x0, n0), binary_mul(v1, v0))\n",
    "\n",
    "    expr = 'binary_add(binary_add(x0, v0), binary_mul(v0, v1))'\n",
    "\n",
    "    X3d[obs, 0] = x1\n",
    "    X3d[obs, 1] = x2\n",
    "    X2d[obs] = b\n",
    "    y1d[obs] = torch.mean(y).item()\n",
    "    y2d[obs] = y\n",
    "\n",
    "operators = Operators(['add', 'sub', 'mul', 'div', 'neg', 'mean'])\n",
    "\n",
    "model = PolySymModel(X3d=X3d,\n",
    "                        X2d=X2d,\n",
    "                        y=y1d,\n",
    "                        labels_2d=['b'],\n",
    "                        labels_3d=['vec0', 'vec1'],\n",
    "                        operators=None,\n",
    "                        min_complexity=1,\n",
    "                        max_complexity=4,\n",
    "                        scale=False,\n",
    "                        pop_size=300,\n",
    "                        stopping_criterion=.99,\n",
    "                        max_iter=5,\n",
    "                        fitness_fn = r2,\n",
    "                        fitness_obj = 1,\n",
    "                        seed=42,\n",
    "                        verbose=1,\n",
    "                        optimize_ephemerals=False,\n",
    "                        workers=1)\n",
    "\n",
    "#print(model.eval_expr(expr))\n",
    "\n",
    "# TODO: fix scaling\n"
   ],
   "outputs": [
    {
     "name": "stdout",
     "output_type": "stream",
     "text": [
      "The autoreload extension is already loaded. To reload it, use:\n",
      "  %reload_ext autoreload\n"
     ]
    }
   ],
   "execution_count": 195
  },
  {
   "metadata": {
    "ExecuteTime": {
     "end_time": "2025-04-27T13:37:27.866310Z",
     "start_time": "2025-04-27T13:37:27.719231Z"
    }
   },
   "cell_type": "code",
   "source": [
    "import os, torch, multiprocessing as mp\n",
    "\n",
    "\"\"\"# ---- put this at the top of your main script ----\n",
    "for var in (\"OMP_NUM_THREADS\",\"MKL_NUM_THREADS\",\"OPENBLAS_NUM_THREADS\"):\n",
    "    os.environ[var] = \"1\"\n",
    "torch.set_num_threads(1)\n",
    "torch.set_num_interop_threads(1)\n",
    "\n",
    "if mp.get_start_method(allow_none=True) != \"fork\":\n",
    "    mp.set_start_method(\"fork\", force=True)\"\"\"   # Linux, CPU‑only\n",
    "# -----------------------------------------------\n",
    "\n",
    "model.fit()"
   ],
   "id": "146f9994",
   "outputs": [
    {
     "name": "stderr",
     "output_type": "stream",
     "text": [
      "2025-04-27 15:37:27,750 - INFO - Running iteration 0/5; best fit=-inf\n"
     ]
    },
    {
     "ename": "AttributeError",
     "evalue": "'int' object has no attribute 'dim'",
     "output_type": "error",
     "traceback": [
      "\u001B[31m---------------------------------------------------------------------------\u001B[39m",
      "\u001B[31mAttributeError\u001B[39m                            Traceback (most recent call last)",
      "\u001B[36mCell\u001B[39m\u001B[36m \u001B[39m\u001B[32mIn[197]\u001B[39m\u001B[32m, line 13\u001B[39m\n\u001B[32m      3\u001B[39m \u001B[33;03m\"\"\"# ---- put this at the top of your main script ----\u001B[39;00m\n\u001B[32m      4\u001B[39m \u001B[33;03mfor var in (\"OMP_NUM_THREADS\",\"MKL_NUM_THREADS\",\"OPENBLAS_NUM_THREADS\"):\u001B[39;00m\n\u001B[32m      5\u001B[39m \u001B[33;03m    os.environ[var] = \"1\"\u001B[39;00m\n\u001B[32m   (...)\u001B[39m\u001B[32m      9\u001B[39m \u001B[33;03mif mp.get_start_method(allow_none=True) != \"fork\":\u001B[39;00m\n\u001B[32m     10\u001B[39m \u001B[33;03m    mp.set_start_method(\"fork\", force=True)\"\"\"\u001B[39;00m   \u001B[38;5;66;03m# Linux, CPU‑only\u001B[39;00m\n\u001B[32m     11\u001B[39m \u001B[38;5;66;03m# -----------------------------------------------\u001B[39;00m\n\u001B[32m---> \u001B[39m\u001B[32m13\u001B[39m \u001B[43mmodel\u001B[49m\u001B[43m.\u001B[49m\u001B[43mfit\u001B[49m\u001B[43m(\u001B[49m\u001B[43m)\u001B[49m\n",
      "\u001B[36mFile \u001B[39m\u001B[32m<string>:36\u001B[39m, in \u001B[36mfit\u001B[39m\u001B[34m(self)\u001B[39m\n",
      "\u001B[36mFile \u001B[39m\u001B[32m<string>:8\u001B[39m, in \u001B[36meval_fitnesses\u001B[39m\u001B[34m(pop)\u001B[39m\n",
      "\u001B[36mFile \u001B[39m\u001B[32m<string>:35\u001B[39m, in \u001B[36m<lambda>\u001B[39m\u001B[34m(ind)\u001B[39m\n",
      "\u001B[36mFile \u001B[39m\u001B[32m~/VSCodeProjects/PolySym/polysym/utils.py:154\u001B[39m, in \u001B[36m_evaluate_worker\u001B[39m\u001B[34m(ind, inputs, hill_inputs, pset, fitness_fn, y, y_hill, worst_fitness, objective, optimize_ephemerals, fitness_obj, threshold, opt_steps, opt_sigma, ngsa_alpha)\u001B[39m\n\u001B[32m    136\u001B[39m         node.value = new_val\n\u001B[32m    138\u001B[39m     \u001B[38;5;28;01mreturn\u001B[39;00m ind\n\u001B[32m    140\u001B[39m \u001B[38;5;28;01mdef\u001B[39;00m\u001B[38;5;250m \u001B[39m\u001B[34m_evaluate_worker\u001B[39m(ind,\n\u001B[32m    141\u001B[39m                      inputs,\n\u001B[32m    142\u001B[39m                      hill_inputs,\n\u001B[32m    143\u001B[39m                      pset,\n\u001B[32m    144\u001B[39m                      fitness_fn,\n\u001B[32m    145\u001B[39m                      y,\n\u001B[32m    146\u001B[39m                      y_hill,\n\u001B[32m    147\u001B[39m                      worst_fitness,\n\u001B[32m    148\u001B[39m                      objective,\n\u001B[32m    149\u001B[39m                      optimize_ephemerals,\n\u001B[32m    150\u001B[39m                      fitness_obj,\n\u001B[32m    151\u001B[39m                      threshold,\n\u001B[32m    152\u001B[39m                      opt_steps,\n\u001B[32m    153\u001B[39m                      opt_sigma,\n\u001B[32m--> \u001B[39m\u001B[32m154\u001B[39m                      ngsa_alpha):\n\u001B[32m    155\u001B[39m \u001B[38;5;250m    \u001B[39m\u001B[33;03m\"\"\"\u001B[39;00m\n\u001B[32m    156\u001B[39m \u001B[33;03m    Multiprocessing implementation\u001B[39;00m\n\u001B[32m    157\u001B[39m \n\u001B[32m   (...)\u001B[39m\u001B[32m    161\u001B[39m \n\u001B[32m    162\u001B[39m \u001B[33;03m    \"\"\"\u001B[39;00m\n\u001B[32m    163\u001B[39m     \u001B[38;5;66;03m# func = gp.compile(expr=ind, pset=pset)\u001B[39;00m\n",
      "\u001B[31mAttributeError\u001B[39m: 'int' object has no attribute 'dim'"
     ]
    }
   ],
   "execution_count": 197
  },
  {
   "metadata": {
    "ExecuteTime": {
     "end_time": "2025-04-27T12:51:55.520030Z",
     "start_time": "2025-04-27T12:51:55.486024Z"
    }
   },
   "cell_type": "code",
   "source": "model.summary(pretty_print=True)",
   "id": "6dd2371daaf830d5",
   "outputs": [
    {
     "name": "stdout",
     "output_type": "stream",
     "text": [
      "Best depth=1\n",
      "\n"
     ]
    },
    {
     "data": {
      "text/plain": [
       "<IPython.core.display.Math object>"
      ],
      "text/latex": "$\\displaystyle \\text{Depth=1 (fit=0.26)}\\quad vec_{0} + vec_{1}$"
     },
     "metadata": {},
     "output_type": "display_data"
    },
    {
     "name": "stdout",
     "output_type": "stream",
     "text": [
      "\n"
     ]
    },
    {
     "data": {
      "text/plain": [
       "<IPython.core.display.Math object>"
      ],
      "text/latex": "$\\displaystyle \\text{Depth=2 (fit=0.26)}\\quad vec_{0} + \\tan{\\left(vec_{1} \\right)}$"
     },
     "metadata": {},
     "output_type": "display_data"
    },
    {
     "name": "stdout",
     "output_type": "stream",
     "text": [
      "\n"
     ]
    },
    {
     "data": {
      "text/plain": [
       "<IPython.core.display.Math object>"
      ],
      "text/latex": "$\\displaystyle \\text{Depth=3 (fit=0.21)}\\quad vec_{0} + \\operatorname{center}{\\left(\\log{\\left(b \\right)} \\right)}$"
     },
     "metadata": {},
     "output_type": "display_data"
    },
    {
     "name": "stdout",
     "output_type": "stream",
     "text": [
      "\n"
     ]
    },
    {
     "data": {
      "text/plain": [
       "<IPython.core.display.Math object>"
      ],
      "text/latex": "$\\displaystyle \\text{Depth=4 (fit=0.21)}\\quad \\left|{\\left|{vec_{0}}\\right| - 0.15}\\right|$"
     },
     "metadata": {},
     "output_type": "display_data"
    },
    {
     "name": "stdout",
     "output_type": "stream",
     "text": [
      "\n"
     ]
    }
   ],
   "execution_count": 194
  },
  {
   "metadata": {
    "ExecuteTime": {
     "end_time": "2025-04-27T12:43:44.879304Z",
     "start_time": "2025-04-27T12:43:44.836287Z"
    }
   },
   "cell_type": "code",
   "source": "",
   "id": "c94971231ecd45c1",
   "outputs": [],
   "execution_count": 186
  },
  {
   "metadata": {
    "ExecuteTime": {
     "end_time": "2025-04-26T13:26:14.288434Z",
     "start_time": "2025-04-26T13:26:14.107729Z"
    }
   },
   "cell_type": "code",
   "source": "sp.pprint(expr)",
   "id": "4aa6857d6cbba833",
   "outputs": [
    {
     "name": "stdout",
     "output_type": "stream",
     "text": [
      " 10.69⋅v₁                 \n",
      "────────── + mean(v₀ - v₁)\n",
      "v₁ + 99.33                \n"
     ]
    }
   ],
   "execution_count": 69
  },
  {
   "metadata": {
    "ExecuteTime": {
     "end_time": "2025-04-26T13:01:34.131404Z",
     "start_time": "2025-04-26T13:01:34.060003Z"
    }
   },
   "cell_type": "code",
   "source": [
    "import sympy as sp\n",
    "\n",
    "sp.sympify(model.best_per_depth[3][1])\n",
    "\n",
    "locals_map = {\n",
    "    'binary_add': sp.Add,\n",
    "    'binary_sub': lambda a, b: a - b,\n",
    "    'binary_mul': sp.Mul,\n",
    "    'binary_div': lambda a, b: a / b,\n",
    "    'unary_neg': lambda x: -x,\n",
    "    'unary_sin': sp.sin,\n",
    "    'unary_cos': sp.cos,\n",
    "    'unary_mean': lambda x: sp.Function('mean')(x),\n",
    "    'unary_x': lambda x: sp.Function('x')(x)\n",
    "}\n",
    "\n",
    "for depth, (fitness, expr, ind) in model.best_per_depth.items():\n",
    "    # now pass locals_map so sympy knows how to translate\n",
    "    sym_expr = sp.sympify(expr, locals=locals_map)\n",
    "    print(f\"Depth={depth} fitness={fitness:.2f} ; expr = {sym_expr}\")"
   ],
   "id": "4b62a1091569f856",
   "outputs": [
    {
     "name": "stdout",
     "output_type": "stream",
     "text": [
      "Depth=1 fitness=0.26 ; expr = v0 + v1\n",
      "Depth=2 fitness=0.25 ; expr = v0 + v1 + 0.91116815333641\n",
      "Depth=3 fitness=0.97 ; expr = v0*v1 + v0 + x0\n",
      "Depth=4 fitness=0.96 ; expr = v0*v1 + v0 - v1 + x0 - 2.44633418120992\n",
      "Depth=5 fitness=0.95 ; expr = v0*v1 + v0 + v1**2 - v1 + x0\n",
      "Depth=6 fitness=0.94 ; expr = v0*v1 + v0 + x0 - mean(v1)\n"
     ]
    }
   ],
   "execution_count": 46
  },
  {
   "metadata": {
    "ExecuteTime": {
     "end_time": "2025-04-26T10:38:03.198251Z",
     "start_time": "2025-04-26T10:38:03.174889Z"
    }
   },
   "cell_type": "code",
   "source": "model.eval_expr('binary_add(binary_add(x0, v0), binary_mul(v0, v1))')",
   "id": "9621f26330f440bc",
   "outputs": [
    {
     "data": {
      "text/plain": [
       "1.0"
      ]
     },
     "execution_count": 36,
     "metadata": {},
     "output_type": "execute_result"
    }
   ],
   "execution_count": 36
  },
  {
   "metadata": {
    "ExecuteTime": {
     "end_time": "2025-04-25T09:20:24.418564Z",
     "start_time": "2025-04-25T09:20:24.370260Z"
    }
   },
   "cell_type": "code",
   "source": [
    "import sympy as sp\n",
    "\n",
    "ind = model.best_per_depth[3][2]\n",
    "expr = sp.sympify('binary_add(binary_mul(unary_neg(-14), binary_mul(v0, v1)), binary_mul(unary_neg(v0), -14))')\n",
    "\n",
    "print(expr)\n",
    "print(sp.simplify(expr))"
   ],
   "id": "6c64ae7544f2506b",
   "outputs": [
    {
     "name": "stdout",
     "output_type": "stream",
     "text": [
      "binary_add(binary_mul(unary_neg(-14), binary_mul(v0, v1)), binary_mul(unary_neg(v0), -14))\n",
      "binary_add(binary_mul(unary_neg(-14), binary_mul(v0, v1)), binary_mul(unary_neg(v0), -14))\n"
     ]
    }
   ],
   "execution_count": 199
  },
  {
   "metadata": {},
   "cell_type": "code",
   "outputs": [
    {
     "name": "stdout",
     "output_type": "stream",
     "text": [
      "x0\n",
      "v0\n",
      "v1\n",
      "randc\n",
      "<class 'collections.defaultdict'>\n",
      "defaultdict(<class 'list'>, {<class 'object'>: [<deap.gp.Terminal object at 0x139e49440>, <deap.gp.Terminal object at 0x139e4a600>, <deap.gp.Terminal object at 0x139e4aec0>, <class 'deap.gp.randc'>]})\n"
     ]
    }
   ],
   "execution_count": 11,
   "source": [
    "for i in list(model.pset.terminals.values())[0]:\n",
    "    print(i.name)\n",
    "\n",
    "print(type(model.pset.terminals))\n",
    "print(model.pset.terminals)"
   ],
   "id": "0e6d56ba"
  },
  {
   "metadata": {},
   "cell_type": "code",
   "outputs": [
    {
     "name": "stdout",
     "output_type": "stream",
     "text": [
      "binary_add(binary_add(x0, v0), binary_mul(v0, v1))\n"
     ]
    }
   ],
   "execution_count": 169,
   "source": "print(model.best_expr)",
   "id": "af410fb95943619d"
  },
  {
   "metadata": {
    "ExecuteTime": {
     "end_time": "2025-04-26T10:29:19.820334Z",
     "start_time": "2025-04-26T10:29:19.769358Z"
    }
   },
   "cell_type": "code",
   "source": "model.depth_quota",
   "id": "1b772e2d9c1e55b4",
   "outputs": [
    {
     "data": {
      "text/plain": [
       "{4: np.int64(100), 5: np.int64(100), 6: np.int64(100)}"
      ]
     },
     "execution_count": 30,
     "metadata": {},
     "output_type": "execute_result"
    }
   ],
   "execution_count": 30
  },
  {
   "metadata": {
    "ExecuteTime": {
     "end_time": "2025-04-27T12:39:26.172725Z",
     "start_time": "2025-04-27T12:39:26.029988Z"
    }
   },
   "cell_type": "code",
   "source": "model.plot_differential_loss()",
   "id": "339a4418c0f23ca7",
   "outputs": [
    {
     "data": {
      "text/plain": [
       "<Figure size 1000x600 with 1 Axes>"
      ],
      "image/png": "[encoded data removed]"
     },
     "metadata": {},
     "output_type": "display_data"
    }
   ],
   "execution_count": 171
  },
  {
   "metadata": {
    "ExecuteTime": {
     "end_time": "2025-04-27T12:39:29.555208Z",
     "start_time": "2025-04-27T12:39:29.476058Z"
    }
   },
   "cell_type": "code",
   "source": "model.plot_depth_per_gen()",
   "id": "d0d30fc5b734493",
   "outputs": [
    {
     "data": {
      "text/plain": [
       "<Figure size 1000x600 with 1 Axes>"
      ],
      "image/png": "[encoded data removed]"
     },
     "metadata": {},
     "output_type": "display_data"
    }
   ],
   "execution_count": 172
  },
  {
   "metadata": {
    "ExecuteTime": {
     "end_time": "2025-04-25T10:55:22.678483Z",
     "start_time": "2025-04-25T10:55:22.316526Z"
    }
   },
   "cell_type": "code",
   "source": [
    "from polysym.eval_rank import is_valid_tree\n",
    "\n",
    "depth = 5\n",
    "operators = Operators(['add', 'sub', 'mul', 'div', 'neg', 'mean'])\n",
    "model = PolySymModel(X3d=X3d,\n",
    "                        X2d=X2d,\n",
    "                        y=y1d,\n",
    "                        operators=operators,\n",
    "                        min_complexity=5,\n",
    "                        max_complexity=depth,\n",
    "                        scale=False,\n",
    "                        pop_size=300,\n",
    "                        stopping_criterion=.99,\n",
    "                        max_iter=20,\n",
    "                        fitness_fn = r2,\n",
    "                        fitness_obj = 1,\n",
    "                        seed=42,\n",
    "                        verbose=1,\n",
    "                        workers=-1)\n",
    "\n",
    "pop = model.toolbox.population(n=100)\n",
    "heights_constraint = [i.height != depth for i in pop]\n",
    "dim_mismatches = [model.toolbox.evaluate(i)[1] for i in pop]\n",
    "are_valids = [is_valid_tree(ind, 1) for ind in pop]\n",
    "any(heights_constraint), any(dim_mismatches), sum(dim_mismatches), sum(are_valids)"
   ],
   "id": "f32ba46b2808f05d",
   "outputs": [
    {
     "data": {
      "text/plain": [
       "(False, False, 0, 100)"
      ]
     },
     "execution_count": 227,
     "metadata": {},
     "output_type": "execute_result"
    }
   ],
   "execution_count": 227
  },
  {
   "metadata": {},
   "cell_type": "code",
   "outputs": [],
   "execution_count": null,
   "source": "",
   "id": "78350cb8689393a"
  }
 ],
 "metadata": {
  "kernelspec": {
   "display_name": "Python 3 (ipykernel)",
   "language": "python",
   "name": "python3"
  },
  "language_info": {
   "codemirror_mode": {
    "name": "ipython",
    "version": 3
   },
   "file_extension": ".py",
   "mimetype": "text/x-python",
   "name": "python",
   "nbconvert_exporter": "python",
   "pygments_lexer": "ipython3",
   "version": "3.13.0"
  }
 },
 "nbformat": 4,
 "nbformat_minor": 5
}
